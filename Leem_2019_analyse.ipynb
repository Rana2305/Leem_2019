{
 "cells": [
  {
   "cell_type": "code",
   "execution_count": 304,
   "metadata": {},
   "outputs": [],
   "source": [
    "import pandas as pd\n",
    "import scipy\n",
    "import pyreadstat\n",
    "import pyshs\n",
    "import matplotlib.pyplot as plt\n",
    "import seaborn as sns\n",
    "import prince\n",
    "import numpy as np"
   ]
  },
  {
   "cell_type": "code",
   "execution_count": 305,
   "metadata": {},
   "outputs": [],
   "source": [
    "pd.set_option('display.max_columns', None)"
   ]
  },
  {
   "cell_type": "code",
   "execution_count": 306,
   "metadata": {},
   "outputs": [],
   "source": [
    "data = pd.read_csv(r\"C:\\Users\\rana_\\OneDrive\\Bureau\\inserm\\travaux\\IFOP et LEEM\\transfer_5678355_files_71b8c3b2\\LEEM-2019\\2019_BDD.csv\")"
   ]
  },
  {
   "cell_type": "code",
   "execution_count": 307,
   "metadata": {},
   "outputs": [
    {
     "data": {
      "text/html": [
       "<div>\n",
       "<style scoped>\n",
       "    .dataframe tbody tr th:only-of-type {\n",
       "        vertical-align: middle;\n",
       "    }\n",
       "\n",
       "    .dataframe tbody tr th {\n",
       "        vertical-align: top;\n",
       "    }\n",
       "\n",
       "    .dataframe thead th {\n",
       "        text-align: right;\n",
       "    }\n",
       "</style>\n",
       "<table border=\"1\" class=\"dataframe\">\n",
       "  <thead>\n",
       "    <tr style=\"text-align: right;\">\n",
       "      <th></th>\n",
       "      <th>CDAY</th>\n",
       "      <th>CMONTH</th>\n",
       "      <th>CYEAR</th>\n",
       "      <th>PSD</th>\n",
       "      <th>GENDER</th>\n",
       "      <th>AGER</th>\n",
       "      <th>DEP</th>\n",
       "      <th>REG13</th>\n",
       "      <th>REG9</th>\n",
       "      <th>REG5</th>\n",
       "      <th>AGGLO</th>\n",
       "      <th>HHSIZE</th>\n",
       "      <th>KIDS</th>\n",
       "      <th>MAR</th>\n",
       "      <th>EMP</th>\n",
       "      <th>WORK1</th>\n",
       "      <th>WORK2</th>\n",
       "      <th>PCSI</th>\n",
       "      <th>EMPHI</th>\n",
       "      <th>PCSC</th>\n",
       "      <th>EDU</th>\n",
       "      <th>INC</th>\n",
       "      <th>Q0</th>\n",
       "      <th>RS1_0</th>\n",
       "      <th>RS1_1</th>\n",
       "      <th>RS2A</th>\n",
       "      <th>RS2B</th>\n",
       "      <th>Q1</th>\n",
       "      <th>Q2</th>\n",
       "      <th>Q3_0</th>\n",
       "      <th>Q3_1</th>\n",
       "      <th>Q3_2</th>\n",
       "      <th>Q3_3</th>\n",
       "      <th>Q3_4</th>\n",
       "      <th>Q3_5</th>\n",
       "      <th>Q3_6</th>\n",
       "      <th>Q3_7</th>\n",
       "      <th>Q4_0</th>\n",
       "      <th>Q4_1</th>\n",
       "      <th>Q4_2</th>\n",
       "      <th>Q4_3</th>\n",
       "      <th>Q5_0</th>\n",
       "      <th>Q5_1</th>\n",
       "      <th>Q5_2</th>\n",
       "      <th>Q5_3</th>\n",
       "      <th>Q9_0</th>\n",
       "      <th>Q9_1</th>\n",
       "      <th>Q9_2</th>\n",
       "      <th>Q9_3</th>\n",
       "      <th>Q9_4</th>\n",
       "      <th>Q9_5</th>\n",
       "      <th>Q9_6</th>\n",
       "      <th>Q9_7</th>\n",
       "      <th>Q9_8</th>\n",
       "      <th>Q9_9</th>\n",
       "      <th>Q9_10</th>\n",
       "      <th>Q9_11</th>\n",
       "      <th>Q9_12</th>\n",
       "      <th>Q9_13</th>\n",
       "      <th>Q9_14</th>\n",
       "      <th>Q9_15</th>\n",
       "      <th>Q9_16</th>\n",
       "      <th>Q9_17</th>\n",
       "      <th>Q11_0</th>\n",
       "      <th>Q11_1</th>\n",
       "      <th>Q11_2</th>\n",
       "      <th>Q11_3</th>\n",
       "      <th>Q11_4</th>\n",
       "      <th>Q11_5</th>\n",
       "      <th>Q11_6</th>\n",
       "      <th>Q11_7</th>\n",
       "      <th>Q11_8</th>\n",
       "      <th>Q11_9</th>\n",
       "      <th>Q11_10</th>\n",
       "      <th>Q11_11</th>\n",
       "    </tr>\n",
       "  </thead>\n",
       "  <tbody>\n",
       "    <tr>\n",
       "      <th>0</th>\n",
       "      <td>26</td>\n",
       "      <td>11</td>\n",
       "      <td>2019</td>\n",
       "      <td>1.667140</td>\n",
       "      <td>2</td>\n",
       "      <td>4</td>\n",
       "      <td>78</td>\n",
       "      <td>11</td>\n",
       "      <td>1</td>\n",
       "      <td>1</td>\n",
       "      <td>5</td>\n",
       "      <td>3</td>\n",
       "      <td>0</td>\n",
       "      <td>3</td>\n",
       "      <td>6</td>\n",
       "      <td>2</td>\n",
       "      <td>2</td>\n",
       "      <td>8</td>\n",
       "      <td>1</td>\n",
       "      <td>3</td>\n",
       "      <td>4</td>\n",
       "      <td>14</td>\n",
       "      <td>1</td>\n",
       "      <td>2</td>\n",
       "      <td>2</td>\n",
       "      <td></td>\n",
       "      <td>7</td>\n",
       "      <td>2</td>\n",
       "      <td>1</td>\n",
       "      <td>1</td>\n",
       "      <td>2</td>\n",
       "      <td>1</td>\n",
       "      <td>3</td>\n",
       "      <td>1</td>\n",
       "      <td>2</td>\n",
       "      <td>2</td>\n",
       "      <td>2</td>\n",
       "      <td>3</td>\n",
       "      <td>2</td>\n",
       "      <td>3</td>\n",
       "      <td>2</td>\n",
       "      <td></td>\n",
       "      <td>2</td>\n",
       "      <td></td>\n",
       "      <td>2</td>\n",
       "      <td>1</td>\n",
       "      <td>1</td>\n",
       "      <td>1</td>\n",
       "      <td>1</td>\n",
       "      <td>2</td>\n",
       "      <td>2</td>\n",
       "      <td>2</td>\n",
       "      <td>1</td>\n",
       "      <td>3</td>\n",
       "      <td>3</td>\n",
       "      <td>3</td>\n",
       "      <td>3</td>\n",
       "      <td>3</td>\n",
       "      <td>2</td>\n",
       "      <td>2</td>\n",
       "      <td>3</td>\n",
       "      <td>2</td>\n",
       "      <td>2</td>\n",
       "      <td>2</td>\n",
       "      <td>2</td>\n",
       "      <td>2</td>\n",
       "      <td>3</td>\n",
       "      <td>2</td>\n",
       "      <td>2</td>\n",
       "      <td>2</td>\n",
       "      <td>2</td>\n",
       "      <td>4</td>\n",
       "      <td>2</td>\n",
       "      <td>2</td>\n",
       "      <td>2</td>\n",
       "    </tr>\n",
       "    <tr>\n",
       "      <th>1</th>\n",
       "      <td>27</td>\n",
       "      <td>11</td>\n",
       "      <td>2019</td>\n",
       "      <td>1.354743</td>\n",
       "      <td>2</td>\n",
       "      <td>5</td>\n",
       "      <td>95</td>\n",
       "      <td>11</td>\n",
       "      <td>1</td>\n",
       "      <td>1</td>\n",
       "      <td>5</td>\n",
       "      <td>1</td>\n",
       "      <td>0</td>\n",
       "      <td>5</td>\n",
       "      <td>7</td>\n",
       "      <td>2</td>\n",
       "      <td>2</td>\n",
       "      <td>7</td>\n",
       "      <td>7</td>\n",
       "      <td>7</td>\n",
       "      <td>6</td>\n",
       "      <td>8</td>\n",
       "      <td>1</td>\n",
       "      <td>2</td>\n",
       "      <td>2</td>\n",
       "      <td></td>\n",
       "      <td>1</td>\n",
       "      <td>2</td>\n",
       "      <td>2</td>\n",
       "      <td>2</td>\n",
       "      <td>2</td>\n",
       "      <td>2</td>\n",
       "      <td>2</td>\n",
       "      <td>2</td>\n",
       "      <td>2</td>\n",
       "      <td>2</td>\n",
       "      <td>1</td>\n",
       "      <td>3</td>\n",
       "      <td>3</td>\n",
       "      <td>3</td>\n",
       "      <td>3</td>\n",
       "      <td></td>\n",
       "      <td></td>\n",
       "      <td></td>\n",
       "      <td></td>\n",
       "      <td>1</td>\n",
       "      <td>2</td>\n",
       "      <td>2</td>\n",
       "      <td>2</td>\n",
       "      <td>2</td>\n",
       "      <td>1</td>\n",
       "      <td>2</td>\n",
       "      <td>2</td>\n",
       "      <td>3</td>\n",
       "      <td>3</td>\n",
       "      <td>2</td>\n",
       "      <td>3</td>\n",
       "      <td>3</td>\n",
       "      <td>3</td>\n",
       "      <td>2</td>\n",
       "      <td>2</td>\n",
       "      <td>2</td>\n",
       "      <td>2</td>\n",
       "      <td>3</td>\n",
       "      <td>2</td>\n",
       "      <td>2</td>\n",
       "      <td>2</td>\n",
       "      <td>3</td>\n",
       "      <td>2</td>\n",
       "      <td>2</td>\n",
       "      <td>2</td>\n",
       "      <td>3</td>\n",
       "      <td>2</td>\n",
       "      <td>2</td>\n",
       "      <td>2</td>\n",
       "    </tr>\n",
       "    <tr>\n",
       "      <th>2</th>\n",
       "      <td>26</td>\n",
       "      <td>11</td>\n",
       "      <td>2019</td>\n",
       "      <td>0.371918</td>\n",
       "      <td>1</td>\n",
       "      <td>1</td>\n",
       "      <td>42</td>\n",
       "      <td>84</td>\n",
       "      <td>8</td>\n",
       "      <td>5</td>\n",
       "      <td>4</td>\n",
       "      <td>2</td>\n",
       "      <td>0</td>\n",
       "      <td>7</td>\n",
       "      <td>1</td>\n",
       "      <td>1</td>\n",
       "      <td>1</td>\n",
       "      <td>5</td>\n",
       "      <td>1</td>\n",
       "      <td>5</td>\n",
       "      <td>5</td>\n",
       "      <td>10</td>\n",
       "      <td>1</td>\n",
       "      <td>2</td>\n",
       "      <td>2</td>\n",
       "      <td></td>\n",
       "      <td>8</td>\n",
       "      <td>3</td>\n",
       "      <td>3</td>\n",
       "      <td>3</td>\n",
       "      <td>3</td>\n",
       "      <td>3</td>\n",
       "      <td>3</td>\n",
       "      <td>3</td>\n",
       "      <td>3</td>\n",
       "      <td>4</td>\n",
       "      <td>3</td>\n",
       "      <td>3</td>\n",
       "      <td>3</td>\n",
       "      <td>3</td>\n",
       "      <td>2</td>\n",
       "      <td></td>\n",
       "      <td></td>\n",
       "      <td></td>\n",
       "      <td>3</td>\n",
       "      <td>3</td>\n",
       "      <td>4</td>\n",
       "      <td>4</td>\n",
       "      <td>3</td>\n",
       "      <td>4</td>\n",
       "      <td>3</td>\n",
       "      <td>2</td>\n",
       "      <td>2</td>\n",
       "      <td>4</td>\n",
       "      <td>4</td>\n",
       "      <td>3</td>\n",
       "      <td>4</td>\n",
       "      <td>4</td>\n",
       "      <td>4</td>\n",
       "      <td>2</td>\n",
       "      <td>2</td>\n",
       "      <td>3</td>\n",
       "      <td>2</td>\n",
       "      <td>4</td>\n",
       "      <td>3</td>\n",
       "      <td>2</td>\n",
       "      <td>3</td>\n",
       "      <td>4</td>\n",
       "      <td>4</td>\n",
       "      <td>2</td>\n",
       "      <td>3</td>\n",
       "      <td>3</td>\n",
       "      <td>2</td>\n",
       "      <td>2</td>\n",
       "      <td>4</td>\n",
       "    </tr>\n",
       "    <tr>\n",
       "      <th>3</th>\n",
       "      <td>26</td>\n",
       "      <td>11</td>\n",
       "      <td>2019</td>\n",
       "      <td>0.983840</td>\n",
       "      <td>2</td>\n",
       "      <td>4</td>\n",
       "      <td>33</td>\n",
       "      <td>75</td>\n",
       "      <td>7</td>\n",
       "      <td>4</td>\n",
       "      <td>4</td>\n",
       "      <td>1</td>\n",
       "      <td>0</td>\n",
       "      <td>1</td>\n",
       "      <td>1</td>\n",
       "      <td>1</td>\n",
       "      <td>1</td>\n",
       "      <td>4</td>\n",
       "      <td>1</td>\n",
       "      <td>4</td>\n",
       "      <td>4</td>\n",
       "      <td>6</td>\n",
       "      <td>1</td>\n",
       "      <td>2</td>\n",
       "      <td>1</td>\n",
       "      <td>5</td>\n",
       "      <td></td>\n",
       "      <td>2</td>\n",
       "      <td>2</td>\n",
       "      <td>2</td>\n",
       "      <td>2</td>\n",
       "      <td>2</td>\n",
       "      <td>2</td>\n",
       "      <td>2</td>\n",
       "      <td>2</td>\n",
       "      <td>3</td>\n",
       "      <td>2</td>\n",
       "      <td>3</td>\n",
       "      <td>3</td>\n",
       "      <td>2</td>\n",
       "      <td>2</td>\n",
       "      <td></td>\n",
       "      <td></td>\n",
       "      <td>2</td>\n",
       "      <td>2</td>\n",
       "      <td>1</td>\n",
       "      <td>2</td>\n",
       "      <td>2</td>\n",
       "      <td>2</td>\n",
       "      <td>2</td>\n",
       "      <td>1</td>\n",
       "      <td>2</td>\n",
       "      <td>1</td>\n",
       "      <td>4</td>\n",
       "      <td>4</td>\n",
       "      <td>3</td>\n",
       "      <td>3</td>\n",
       "      <td>3</td>\n",
       "      <td>4</td>\n",
       "      <td>1</td>\n",
       "      <td>4</td>\n",
       "      <td>1</td>\n",
       "      <td>1</td>\n",
       "      <td>4</td>\n",
       "      <td>4</td>\n",
       "      <td>3</td>\n",
       "      <td>3</td>\n",
       "      <td>3</td>\n",
       "      <td>3</td>\n",
       "      <td>3</td>\n",
       "      <td>3</td>\n",
       "      <td>4</td>\n",
       "      <td>3</td>\n",
       "      <td>3</td>\n",
       "      <td>3</td>\n",
       "    </tr>\n",
       "    <tr>\n",
       "      <th>4</th>\n",
       "      <td>26</td>\n",
       "      <td>11</td>\n",
       "      <td>2019</td>\n",
       "      <td>0.629548</td>\n",
       "      <td>1</td>\n",
       "      <td>2</td>\n",
       "      <td>62</td>\n",
       "      <td>32</td>\n",
       "      <td>4</td>\n",
       "      <td>3</td>\n",
       "      <td>4</td>\n",
       "      <td>4</td>\n",
       "      <td>2</td>\n",
       "      <td>2</td>\n",
       "      <td>1</td>\n",
       "      <td>1</td>\n",
       "      <td>1</td>\n",
       "      <td>4</td>\n",
       "      <td>1</td>\n",
       "      <td>4</td>\n",
       "      <td>6</td>\n",
       "      <td>14</td>\n",
       "      <td>1</td>\n",
       "      <td>2</td>\n",
       "      <td>1</td>\n",
       "      <td></td>\n",
       "      <td>8</td>\n",
       "      <td>3</td>\n",
       "      <td>2</td>\n",
       "      <td>3</td>\n",
       "      <td>3</td>\n",
       "      <td>3</td>\n",
       "      <td>3</td>\n",
       "      <td>3</td>\n",
       "      <td>3</td>\n",
       "      <td>2</td>\n",
       "      <td>2</td>\n",
       "      <td>3</td>\n",
       "      <td>3</td>\n",
       "      <td>3</td>\n",
       "      <td>3</td>\n",
       "      <td></td>\n",
       "      <td></td>\n",
       "      <td></td>\n",
       "      <td></td>\n",
       "      <td>2</td>\n",
       "      <td>2</td>\n",
       "      <td>2</td>\n",
       "      <td>2</td>\n",
       "      <td>3</td>\n",
       "      <td>3</td>\n",
       "      <td>2</td>\n",
       "      <td>1</td>\n",
       "      <td>3</td>\n",
       "      <td>3</td>\n",
       "      <td>4</td>\n",
       "      <td>2</td>\n",
       "      <td>3</td>\n",
       "      <td>2</td>\n",
       "      <td>2</td>\n",
       "      <td>2</td>\n",
       "      <td>2</td>\n",
       "      <td>3</td>\n",
       "      <td>3</td>\n",
       "      <td>3</td>\n",
       "      <td>2</td>\n",
       "      <td>3</td>\n",
       "      <td>3</td>\n",
       "      <td>3</td>\n",
       "      <td>3</td>\n",
       "      <td>3</td>\n",
       "      <td>3</td>\n",
       "      <td>2</td>\n",
       "      <td>2</td>\n",
       "      <td>2</td>\n",
       "    </tr>\n",
       "    <tr>\n",
       "      <th>...</th>\n",
       "      <td>...</td>\n",
       "      <td>...</td>\n",
       "      <td>...</td>\n",
       "      <td>...</td>\n",
       "      <td>...</td>\n",
       "      <td>...</td>\n",
       "      <td>...</td>\n",
       "      <td>...</td>\n",
       "      <td>...</td>\n",
       "      <td>...</td>\n",
       "      <td>...</td>\n",
       "      <td>...</td>\n",
       "      <td>...</td>\n",
       "      <td>...</td>\n",
       "      <td>...</td>\n",
       "      <td>...</td>\n",
       "      <td>...</td>\n",
       "      <td>...</td>\n",
       "      <td>...</td>\n",
       "      <td>...</td>\n",
       "      <td>...</td>\n",
       "      <td>...</td>\n",
       "      <td>...</td>\n",
       "      <td>...</td>\n",
       "      <td>...</td>\n",
       "      <td>...</td>\n",
       "      <td>...</td>\n",
       "      <td>...</td>\n",
       "      <td>...</td>\n",
       "      <td>...</td>\n",
       "      <td>...</td>\n",
       "      <td>...</td>\n",
       "      <td>...</td>\n",
       "      <td>...</td>\n",
       "      <td>...</td>\n",
       "      <td>...</td>\n",
       "      <td>...</td>\n",
       "      <td>...</td>\n",
       "      <td>...</td>\n",
       "      <td>...</td>\n",
       "      <td>...</td>\n",
       "      <td>...</td>\n",
       "      <td>...</td>\n",
       "      <td>...</td>\n",
       "      <td>...</td>\n",
       "      <td>...</td>\n",
       "      <td>...</td>\n",
       "      <td>...</td>\n",
       "      <td>...</td>\n",
       "      <td>...</td>\n",
       "      <td>...</td>\n",
       "      <td>...</td>\n",
       "      <td>...</td>\n",
       "      <td>...</td>\n",
       "      <td>...</td>\n",
       "      <td>...</td>\n",
       "      <td>...</td>\n",
       "      <td>...</td>\n",
       "      <td>...</td>\n",
       "      <td>...</td>\n",
       "      <td>...</td>\n",
       "      <td>...</td>\n",
       "      <td>...</td>\n",
       "      <td>...</td>\n",
       "      <td>...</td>\n",
       "      <td>...</td>\n",
       "      <td>...</td>\n",
       "      <td>...</td>\n",
       "      <td>...</td>\n",
       "      <td>...</td>\n",
       "      <td>...</td>\n",
       "      <td>...</td>\n",
       "      <td>...</td>\n",
       "      <td>...</td>\n",
       "      <td>...</td>\n",
       "    </tr>\n",
       "    <tr>\n",
       "      <th>1024</th>\n",
       "      <td>28</td>\n",
       "      <td>11</td>\n",
       "      <td>2019</td>\n",
       "      <td>0.881739</td>\n",
       "      <td>1</td>\n",
       "      <td>5</td>\n",
       "      <td>42</td>\n",
       "      <td>84</td>\n",
       "      <td>8</td>\n",
       "      <td>5</td>\n",
       "      <td>4</td>\n",
       "      <td>2</td>\n",
       "      <td>0</td>\n",
       "      <td>3</td>\n",
       "      <td>7</td>\n",
       "      <td>2</td>\n",
       "      <td>2</td>\n",
       "      <td>7</td>\n",
       "      <td>7</td>\n",
       "      <td>7</td>\n",
       "      <td>3</td>\n",
       "      <td>9</td>\n",
       "      <td>1</td>\n",
       "      <td>1</td>\n",
       "      <td>1</td>\n",
       "      <td></td>\n",
       "      <td>1</td>\n",
       "      <td>2</td>\n",
       "      <td>2</td>\n",
       "      <td>2</td>\n",
       "      <td>2</td>\n",
       "      <td>2</td>\n",
       "      <td>3</td>\n",
       "      <td>2</td>\n",
       "      <td>2</td>\n",
       "      <td>2</td>\n",
       "      <td>1</td>\n",
       "      <td>2</td>\n",
       "      <td>2</td>\n",
       "      <td>2</td>\n",
       "      <td>2</td>\n",
       "      <td>2</td>\n",
       "      <td>2</td>\n",
       "      <td>2</td>\n",
       "      <td>2</td>\n",
       "      <td>1</td>\n",
       "      <td>2</td>\n",
       "      <td>1</td>\n",
       "      <td>2</td>\n",
       "      <td>2</td>\n",
       "      <td>1</td>\n",
       "      <td>2</td>\n",
       "      <td>2</td>\n",
       "      <td>3</td>\n",
       "      <td>3</td>\n",
       "      <td>2</td>\n",
       "      <td>3</td>\n",
       "      <td>2</td>\n",
       "      <td>2</td>\n",
       "      <td>2</td>\n",
       "      <td>2</td>\n",
       "      <td>1</td>\n",
       "      <td>2</td>\n",
       "      <td>3</td>\n",
       "      <td>3</td>\n",
       "      <td>2</td>\n",
       "      <td>3</td>\n",
       "      <td>3</td>\n",
       "      <td>3</td>\n",
       "      <td>3</td>\n",
       "      <td>3</td>\n",
       "      <td>4</td>\n",
       "      <td>2</td>\n",
       "      <td>3</td>\n",
       "      <td>3</td>\n",
       "    </tr>\n",
       "    <tr>\n",
       "      <th>1025</th>\n",
       "      <td>28</td>\n",
       "      <td>11</td>\n",
       "      <td>2019</td>\n",
       "      <td>0.877500</td>\n",
       "      <td>2</td>\n",
       "      <td>4</td>\n",
       "      <td>59</td>\n",
       "      <td>32</td>\n",
       "      <td>4</td>\n",
       "      <td>3</td>\n",
       "      <td>2</td>\n",
       "      <td>2</td>\n",
       "      <td>0</td>\n",
       "      <td>2</td>\n",
       "      <td>1</td>\n",
       "      <td>1</td>\n",
       "      <td>1</td>\n",
       "      <td>5</td>\n",
       "      <td>1</td>\n",
       "      <td>5</td>\n",
       "      <td>4</td>\n",
       "      <td>14</td>\n",
       "      <td>1</td>\n",
       "      <td>2</td>\n",
       "      <td>2</td>\n",
       "      <td>7</td>\n",
       "      <td></td>\n",
       "      <td>4</td>\n",
       "      <td>3</td>\n",
       "      <td>2</td>\n",
       "      <td>2</td>\n",
       "      <td>2</td>\n",
       "      <td>2</td>\n",
       "      <td>3</td>\n",
       "      <td>3</td>\n",
       "      <td>4</td>\n",
       "      <td>2</td>\n",
       "      <td>3</td>\n",
       "      <td>3</td>\n",
       "      <td>3</td>\n",
       "      <td>3</td>\n",
       "      <td></td>\n",
       "      <td></td>\n",
       "      <td></td>\n",
       "      <td></td>\n",
       "      <td>2</td>\n",
       "      <td>2</td>\n",
       "      <td>2</td>\n",
       "      <td>2</td>\n",
       "      <td>3</td>\n",
       "      <td>2</td>\n",
       "      <td>2</td>\n",
       "      <td>2</td>\n",
       "      <td>3</td>\n",
       "      <td>4</td>\n",
       "      <td>3</td>\n",
       "      <td>4</td>\n",
       "      <td>3</td>\n",
       "      <td>4</td>\n",
       "      <td>2</td>\n",
       "      <td>2</td>\n",
       "      <td>2</td>\n",
       "      <td>3</td>\n",
       "      <td>4</td>\n",
       "      <td>4</td>\n",
       "      <td>3</td>\n",
       "      <td>3</td>\n",
       "      <td>3</td>\n",
       "      <td>4</td>\n",
       "      <td>3</td>\n",
       "      <td>4</td>\n",
       "      <td>4</td>\n",
       "      <td>3</td>\n",
       "      <td>3</td>\n",
       "      <td>4</td>\n",
       "    </tr>\n",
       "    <tr>\n",
       "      <th>1026</th>\n",
       "      <td>28</td>\n",
       "      <td>11</td>\n",
       "      <td>2019</td>\n",
       "      <td>0.773859</td>\n",
       "      <td>1</td>\n",
       "      <td>4</td>\n",
       "      <td>69</td>\n",
       "      <td>84</td>\n",
       "      <td>8</td>\n",
       "      <td>5</td>\n",
       "      <td>2</td>\n",
       "      <td>4</td>\n",
       "      <td>2</td>\n",
       "      <td>2</td>\n",
       "      <td>1</td>\n",
       "      <td>1</td>\n",
       "      <td>1</td>\n",
       "      <td>5</td>\n",
       "      <td>1</td>\n",
       "      <td>5</td>\n",
       "      <td>5</td>\n",
       "      <td>6</td>\n",
       "      <td>1</td>\n",
       "      <td>2</td>\n",
       "      <td>2</td>\n",
       "      <td></td>\n",
       "      <td>4</td>\n",
       "      <td>2</td>\n",
       "      <td>2</td>\n",
       "      <td>2</td>\n",
       "      <td>2</td>\n",
       "      <td>2</td>\n",
       "      <td>2</td>\n",
       "      <td>1</td>\n",
       "      <td>1</td>\n",
       "      <td>3</td>\n",
       "      <td>1</td>\n",
       "      <td>2</td>\n",
       "      <td>2</td>\n",
       "      <td>2</td>\n",
       "      <td>2</td>\n",
       "      <td>4</td>\n",
       "      <td>4</td>\n",
       "      <td>4</td>\n",
       "      <td>4</td>\n",
       "      <td>1</td>\n",
       "      <td>1</td>\n",
       "      <td>1</td>\n",
       "      <td>1</td>\n",
       "      <td>2</td>\n",
       "      <td>1</td>\n",
       "      <td>1</td>\n",
       "      <td>3</td>\n",
       "      <td>2</td>\n",
       "      <td>4</td>\n",
       "      <td>4</td>\n",
       "      <td>4</td>\n",
       "      <td>3</td>\n",
       "      <td>4</td>\n",
       "      <td>1</td>\n",
       "      <td>1</td>\n",
       "      <td>2</td>\n",
       "      <td>2</td>\n",
       "      <td>4</td>\n",
       "      <td>3</td>\n",
       "      <td>3</td>\n",
       "      <td>3</td>\n",
       "      <td>3</td>\n",
       "      <td>4</td>\n",
       "      <td>3</td>\n",
       "      <td>2</td>\n",
       "      <td>3</td>\n",
       "      <td>3</td>\n",
       "      <td>4</td>\n",
       "      <td>3</td>\n",
       "    </tr>\n",
       "    <tr>\n",
       "      <th>1027</th>\n",
       "      <td>28</td>\n",
       "      <td>11</td>\n",
       "      <td>2019</td>\n",
       "      <td>1.225622</td>\n",
       "      <td>1</td>\n",
       "      <td>5</td>\n",
       "      <td>80</td>\n",
       "      <td>32</td>\n",
       "      <td>3</td>\n",
       "      <td>3</td>\n",
       "      <td>1</td>\n",
       "      <td>2</td>\n",
       "      <td>0</td>\n",
       "      <td>3</td>\n",
       "      <td>7</td>\n",
       "      <td>2</td>\n",
       "      <td>2</td>\n",
       "      <td>7</td>\n",
       "      <td>7</td>\n",
       "      <td>7</td>\n",
       "      <td>5</td>\n",
       "      <td>8</td>\n",
       "      <td>1</td>\n",
       "      <td>1</td>\n",
       "      <td>2</td>\n",
       "      <td></td>\n",
       "      <td>1</td>\n",
       "      <td>2</td>\n",
       "      <td>2</td>\n",
       "      <td>2</td>\n",
       "      <td>2</td>\n",
       "      <td>2</td>\n",
       "      <td>3</td>\n",
       "      <td>1</td>\n",
       "      <td>2</td>\n",
       "      <td>2</td>\n",
       "      <td>2</td>\n",
       "      <td>1</td>\n",
       "      <td>3</td>\n",
       "      <td>3</td>\n",
       "      <td>1</td>\n",
       "      <td>1</td>\n",
       "      <td></td>\n",
       "      <td></td>\n",
       "      <td>1</td>\n",
       "      <td>1</td>\n",
       "      <td>2</td>\n",
       "      <td>2</td>\n",
       "      <td>1</td>\n",
       "      <td>3</td>\n",
       "      <td>1</td>\n",
       "      <td>1</td>\n",
       "      <td>3</td>\n",
       "      <td>3</td>\n",
       "      <td>3</td>\n",
       "      <td>3</td>\n",
       "      <td>3</td>\n",
       "      <td>2</td>\n",
       "      <td>2</td>\n",
       "      <td>2</td>\n",
       "      <td>3</td>\n",
       "      <td>2</td>\n",
       "      <td>3</td>\n",
       "      <td>2</td>\n",
       "      <td>2</td>\n",
       "      <td>2</td>\n",
       "      <td>2</td>\n",
       "      <td>2</td>\n",
       "      <td>2</td>\n",
       "      <td>2</td>\n",
       "      <td>2</td>\n",
       "      <td>2</td>\n",
       "      <td>2</td>\n",
       "      <td>2</td>\n",
       "      <td>2</td>\n",
       "    </tr>\n",
       "    <tr>\n",
       "      <th>1028</th>\n",
       "      <td>28</td>\n",
       "      <td>11</td>\n",
       "      <td>2019</td>\n",
       "      <td>1.667140</td>\n",
       "      <td>2</td>\n",
       "      <td>4</td>\n",
       "      <td>93</td>\n",
       "      <td>11</td>\n",
       "      <td>1</td>\n",
       "      <td>1</td>\n",
       "      <td>5</td>\n",
       "      <td>1</td>\n",
       "      <td>0</td>\n",
       "      <td>5</td>\n",
       "      <td>5</td>\n",
       "      <td>2</td>\n",
       "      <td>2</td>\n",
       "      <td>8</td>\n",
       "      <td>5</td>\n",
       "      <td>8</td>\n",
       "      <td>3</td>\n",
       "      <td>1</td>\n",
       "      <td>1</td>\n",
       "      <td>1</td>\n",
       "      <td>2</td>\n",
       "      <td>1</td>\n",
       "      <td></td>\n",
       "      <td>3</td>\n",
       "      <td>3</td>\n",
       "      <td>3</td>\n",
       "      <td>3</td>\n",
       "      <td>2</td>\n",
       "      <td>2</td>\n",
       "      <td>3</td>\n",
       "      <td>1</td>\n",
       "      <td>2</td>\n",
       "      <td>2</td>\n",
       "      <td>2</td>\n",
       "      <td>3</td>\n",
       "      <td>1</td>\n",
       "      <td>2</td>\n",
       "      <td>2</td>\n",
       "      <td></td>\n",
       "      <td>2</td>\n",
       "      <td>2</td>\n",
       "      <td>2</td>\n",
       "      <td>3</td>\n",
       "      <td>3</td>\n",
       "      <td>2</td>\n",
       "      <td>4</td>\n",
       "      <td>1</td>\n",
       "      <td>2</td>\n",
       "      <td>3</td>\n",
       "      <td>4</td>\n",
       "      <td>3</td>\n",
       "      <td>3</td>\n",
       "      <td>3</td>\n",
       "      <td>3</td>\n",
       "      <td>3</td>\n",
       "      <td>2</td>\n",
       "      <td>3</td>\n",
       "      <td>3</td>\n",
       "      <td>2</td>\n",
       "      <td>4</td>\n",
       "      <td>3</td>\n",
       "      <td>4</td>\n",
       "      <td>3</td>\n",
       "      <td>4</td>\n",
       "      <td>4</td>\n",
       "      <td>2</td>\n",
       "      <td>4</td>\n",
       "      <td>2</td>\n",
       "      <td>2</td>\n",
       "      <td>2</td>\n",
       "      <td>4</td>\n",
       "    </tr>\n",
       "  </tbody>\n",
       "</table>\n",
       "<p>1029 rows × 75 columns</p>\n",
       "</div>"
      ],
      "text/plain": [
       "      CDAY  CMONTH  CYEAR       PSD  GENDER  AGER  DEP  REG13  REG9  REG5  \\\n",
       "0       26      11   2019  1.667140       2     4   78     11     1     1   \n",
       "1       27      11   2019  1.354743       2     5   95     11     1     1   \n",
       "2       26      11   2019  0.371918       1     1   42     84     8     5   \n",
       "3       26      11   2019  0.983840       2     4   33     75     7     4   \n",
       "4       26      11   2019  0.629548       1     2   62     32     4     3   \n",
       "...    ...     ...    ...       ...     ...   ...  ...    ...   ...   ...   \n",
       "1024    28      11   2019  0.881739       1     5   42     84     8     5   \n",
       "1025    28      11   2019  0.877500       2     4   59     32     4     3   \n",
       "1026    28      11   2019  0.773859       1     4   69     84     8     5   \n",
       "1027    28      11   2019  1.225622       1     5   80     32     3     3   \n",
       "1028    28      11   2019  1.667140       2     4   93     11     1     1   \n",
       "\n",
       "      AGGLO  HHSIZE  KIDS  MAR  EMP  WORK1  WORK2  PCSI  EMPHI  PCSC  EDU  \\\n",
       "0         5       3     0    3    6      2      2     8      1     3    4   \n",
       "1         5       1     0    5    7      2      2     7      7     7    6   \n",
       "2         4       2     0    7    1      1      1     5      1     5    5   \n",
       "3         4       1     0    1    1      1      1     4      1     4    4   \n",
       "4         4       4     2    2    1      1      1     4      1     4    6   \n",
       "...     ...     ...   ...  ...  ...    ...    ...   ...    ...   ...  ...   \n",
       "1024      4       2     0    3    7      2      2     7      7     7    3   \n",
       "1025      2       2     0    2    1      1      1     5      1     5    4   \n",
       "1026      2       4     2    2    1      1      1     5      1     5    5   \n",
       "1027      1       2     0    3    7      2      2     7      7     7    5   \n",
       "1028      5       1     0    5    5      2      2     8      5     8    3   \n",
       "\n",
       "      INC  Q0  RS1_0  RS1_1 RS2A RS2B  Q1  Q2  Q3_0  Q3_1  Q3_2  Q3_3  Q3_4  \\\n",
       "0      14   1      2      2         7   2   1     1     2     1     3     1   \n",
       "1       8   1      2      2         1   2   2     2     2     2     2     2   \n",
       "2      10   1      2      2         8   3   3     3     3     3     3     3   \n",
       "3       6   1      2      1    5        2   2     2     2     2     2     2   \n",
       "4      14   1      2      1         8   3   2     3     3     3     3     3   \n",
       "...   ...  ..    ...    ...  ...  ...  ..  ..   ...   ...   ...   ...   ...   \n",
       "1024    9   1      1      1         1   2   2     2     2     2     3     2   \n",
       "1025   14   1      2      2    7        4   3     2     2     2     2     3   \n",
       "1026    6   1      2      2         4   2   2     2     2     2     2     1   \n",
       "1027    8   1      1      2         1   2   2     2     2     2     3     1   \n",
       "1028    1   1      1      2    1        3   3     3     3     2     2     3   \n",
       "\n",
       "      Q3_5  Q3_6  Q3_7  Q4_0  Q4_1  Q4_2  Q4_3 Q5_0 Q5_1 Q5_2 Q5_3  Q9_0  \\\n",
       "0        2     2     2     3     2     3     2         2         2     1   \n",
       "1        2     2     1     3     3     3     3                         1   \n",
       "2        3     4     3     3     3     3     2                   3     3   \n",
       "3        2     3     2     3     3     2     2              2    2     1   \n",
       "4        3     2     2     3     3     3     3                         2   \n",
       "...    ...   ...   ...   ...   ...   ...   ...  ...  ...  ...  ...   ...   \n",
       "1024     2     2     1     2     2     2     2    2    2    2    2     1   \n",
       "1025     3     4     2     3     3     3     3                         2   \n",
       "1026     1     3     1     2     2     2     2    4    4    4    4     1   \n",
       "1027     2     2     2     1     3     3     1    1              1     1   \n",
       "1028     1     2     2     2     3     1     2    2         2    2     2   \n",
       "\n",
       "      Q9_1  Q9_2  Q9_3  Q9_4  Q9_5  Q9_6  Q9_7  Q9_8  Q9_9  Q9_10  Q9_11  \\\n",
       "0        1     1     1     2     2     2     1     3     3      3      3   \n",
       "1        2     2     2     2     1     2     2     3     3      2      3   \n",
       "2        4     4     3     4     3     2     2     4     4      3      4   \n",
       "3        2     2     2     2     1     2     1     4     4      3      3   \n",
       "4        2     2     2     3     3     2     1     3     3      4      2   \n",
       "...    ...   ...   ...   ...   ...   ...   ...   ...   ...    ...    ...   \n",
       "1024     2     1     2     2     1     2     2     3     3      2      3   \n",
       "1025     2     2     2     3     2     2     2     3     4      3      4   \n",
       "1026     1     1     1     2     1     1     3     2     4      4      4   \n",
       "1027     2     2     1     3     1     1     3     3     3      3      3   \n",
       "1028     3     3     2     4     1     2     3     4     3      3      3   \n",
       "\n",
       "      Q9_12  Q9_13  Q9_14  Q9_15  Q9_16  Q9_17  Q11_0  Q11_1  Q11_2  Q11_3  \\\n",
       "0         3      2      2      3      2      2      2      2      2      3   \n",
       "1         3      3      2      2      2      2      3      2      2      2   \n",
       "2         4      4      2      2      3      2      4      3      2      3   \n",
       "3         3      4      1      4      1      1      4      4      3      3   \n",
       "4         3      2      2      2      2      3      3      3      2      3   \n",
       "...     ...    ...    ...    ...    ...    ...    ...    ...    ...    ...   \n",
       "1024      2      2      2      2      1      2      3      3      2      3   \n",
       "1025      3      4      2      2      2      3      4      4      3      3   \n",
       "1026      3      4      1      1      2      2      4      3      3      3   \n",
       "1027      2      2      2      3      2      3      2      2      2      2   \n",
       "1028      3      3      2      3      3      2      4      3      4      3   \n",
       "\n",
       "      Q11_4  Q11_5  Q11_6  Q11_7  Q11_8  Q11_9  Q11_10  Q11_11  \n",
       "0         2      2      2      2      4      2       2       2  \n",
       "1         3      2      2      2      3      2       2       2  \n",
       "2         4      4      2      3      3      2       2       4  \n",
       "3         3      3      3      3      4      3       3       3  \n",
       "4         3      3      3      3      3      2       2       2  \n",
       "...     ...    ...    ...    ...    ...    ...     ...     ...  \n",
       "1024      3      3      3      3      4      2       3       3  \n",
       "1025      3      4      3      4      4      3       3       4  \n",
       "1026      3      4      3      2      3      3       4       3  \n",
       "1027      2      2      2      2      2      2       2       2  \n",
       "1028      4      4      2      4      2      2       2       4  \n",
       "\n",
       "[1029 rows x 75 columns]"
      ]
     },
     "execution_count": 307,
     "metadata": {},
     "output_type": "execute_result"
    }
   ],
   "source": [
    "data"
   ]
  },
  {
   "cell_type": "code",
   "execution_count": 308,
   "metadata": {},
   "outputs": [
    {
     "data": {
      "text/plain": [
       "Q1\n",
       "2    640\n",
       "3    183\n",
       "1    172\n",
       "4     34\n",
       "Name: count, dtype: int64"
      ]
     },
     "execution_count": 308,
     "metadata": {},
     "output_type": "execute_result"
    }
   ],
   "source": [
    "# Variable 'Q1'\n",
    "# Question : Faites-vous tout à fait confiance, plutôt confiance, plutôt pas confiance ou pas du tout confiance aux médicaments ?\n",
    "data['Q1'].value_counts()"
   ]
  },
  {
   "cell_type": "code",
   "execution_count": 309,
   "metadata": {},
   "outputs": [],
   "source": [
    "data['Q1'] = data['Q1'].astype('category')"
   ]
  },
  {
   "cell_type": "code",
   "execution_count": 310,
   "metadata": {},
   "outputs": [],
   "source": [
    "data['Q1'] = data['Q1'].cat.rename_categories({1: \"Tout à fait confiance\"\n",
    "                                                 , 2 : \"Plutôt confiance\"\n",
    "                                                 , 3 : \"Plutôt pas confiance\"\n",
    "                                                 , 4 : \"Pas du tout confiance\"})"
   ]
  },
  {
   "cell_type": "code",
   "execution_count": 311,
   "metadata": {},
   "outputs": [],
   "source": [
    "#changer l'order des categories de la variable 'Q1'\n",
    "data['Q1'] = pd.Categorical(data['Q1'], \n",
    "                            categories=['Pas du tout confiance'\n",
    "                                        , 'Plutôt pas confiance'\n",
    "                                        , 'Plutôt confiance'\n",
    "                                       , 'Tout à fait confiance'], \n",
    "                            ordered=True)"
   ]
  },
  {
   "cell_type": "code",
   "execution_count": 312,
   "metadata": {},
   "outputs": [],
   "source": [
    "list_indeps = ['GENDER', 'AGER', 'REG9', 'AGGLO', 'HHSIZE', 'MAR', 'EMP', 'PCSI', 'EDU', 'INC', 'RS1_0'\n",
    "              , 'RS1_1', 'RS2A', 'RS2B', 'Q1', 'Q3_0', 'Q3_1', 'Q3_2', 'Q3_3', 'Q3_4', 'Q3_5', 'Q3_6', 'Q3_7'\n",
    "              , 'Q4_0', 'Q4_1', 'Q4_2', 'Q4_3', 'Q5_0', 'Q5_1', 'Q5_2', 'Q5_3', 'Q9_0', 'Q9_1', 'Q9_2', 'Q9_3', 'Q9_4'\n",
    "               , 'Q9_5', 'Q9_6', 'Q9_7', 'Q9_8', 'Q9_9', 'Q9_10', 'Q9_11', 'Q9_12', 'Q9_13', 'Q9_14', 'Q9_15', 'Q9_16', 'Q9_17', 'Q11_0'\n",
    "              , 'Q11_1', 'Q11_2', 'Q11_3', 'Q11_4', 'Q11_5', 'Q11_6', 'Q11_7', 'Q11_8', 'Q11_9', 'Q11_10', 'Q11_11']\n",
    "\n",
    "questions_variables = {'GENDER' : \"Sexe\", 'AGER' : \"Groupe d'ages\", 'REG9' : \"Région\", 'AGGLO' : \"Agglomération\"\n",
    "                      , 'HHSIZE' : \"Taille du foyer\", 'MAR' : \"Situation familiale\", 'EMP' : \"Situation professionnelle actuelle\", 'PCSI' : \"CSP\"\n",
    "                      , 'EDU' : \"Niveau de scolarité le plus élevé\", 'INC' : \"Revenu annuel net du foyer\"\n",
    "                      , 'RS1_0' : \"Vous-même ou l’un de vos proches, souffre-t-il d’une ou plusieurs Affection(s) de Longue Durée (ALD), (Moi-même) ?\"\n",
    "                      , 'RS1_1' : \"Vous-même ou l’un de vos proches, souffre-t-il d’une ou plusieurs Affection(s) de Longue Durée (ALD), (Un de mes proches) ?\"\n",
    "                      , 'RS2A' : \"A quelle fréquence prenez-vous des médicaments, qu’ils soient avec ou sans ordonnance ? (sans prendre en compte la pilule contraceptive)\"\n",
    "                      , 'RS2B' : \"A quelle fréquence prenez-vous des médicaments, qu’ils soient avec ou sans ordonnance ?\"\n",
    "                      , 'Q1' : \"Faites-vous tout à fait confiance, plutôt confiance, plutôt pas confiance ou pas du tout confiance aux médicaments ?\"\n",
    "                      , 'Q3_0' : \"Pour chacun des types de médicaments ou traitements suivants, lui faites-vous tout à fait confiance, plutôt confiance, plutôt pas confiance ou pas du tout confiance ? Les médicaments sur ordonnance\"\n",
    "                      , 'Q3_1' : \"Pour chacun des types de médicaments ou traitements suivants, lui faites-vous tout à fait confiance, plutôt confiance, plutôt pas confiance ou pas du tout confiance ? Les médicaments sans ordonnance\"\n",
    "                      , 'Q3_2' : \"Pour chacun des types de médicaments ou traitements suivants, lui faites-vous tout à fait confiance, plutôt confiance, plutôt pas confiance ou pas du tout confiance ? Les médicaments remboursés\"\n",
    "                      , 'Q3_3' : \"Pour chacun des types de médicaments ou traitements suivants, lui faites-vous tout à fait confiance, plutôt confiance, plutôt pas confiance ou pas du tout confiance ? Les médicaments non remboursés\"\n",
    "                      , 'Q3_4' : \"Pour chacun des types de médicaments ou traitements suivants, lui faites-vous tout à fait confiance, plutôt confiance, plutôt pas confiance ou pas du tout confiance ? Les médicaments de marque\"\n",
    "                      , 'Q3_5' : \"Pour chacun des types de médicaments ou traitements suivants, lui faites-vous tout à fait confiance, plutôt confiance, plutôt pas confiance ou pas du tout confiance ? Les médicaments génériques\"\n",
    "                      , 'Q3_6' : \"Pour chacun des types de médicaments ou traitements suivants, lui faites-vous tout à fait confiance, plutôt confiance, plutôt pas confiance ou pas du tout confiance ? Les vaccins\"\n",
    "                      , 'Q3_7' : \"Pour chacun des types de médicaments ou traitements suivants, lui faites-vous tout à fait confiance, plutôt confiance, plutôt pas confiance ou pas du tout confiance ? L'homéopathie\"\n",
    "                      , 'Q4_0' : \"Avez-vous déjà entendu parler des médicaments et traitements suivants ? Les médicaments biologiques\"\n",
    "                      , 'Q4_1' : \"Avez-vous déjà entendu parler des médicaments et traitements suivants ? Les médicaments biosimilaires\"\n",
    "                      , 'Q4_2' : \"Avez-vous déjà entendu parler des médicaments et traitements suivants ? Les médicaments de thérapie génique \"\n",
    "                      , 'Q4_3' : \"Avez-vous déjà entendu parler des médicaments et traitements suivants ? Les médicaments d'immunothérapie\"\n",
    "                      , 'Q5_0' : \"Et globalement, diriez-vous que vous faîtes confiance aux médicaments et traitements suivants ? Les médicaments biologiques\"\n",
    "                      , 'Q5_1' : \"Et globalement, diriez-vous que vous faîtes confiance aux médicaments et traitements suivants ? Les médicaments biosimilaires\"\n",
    "                      , 'Q5_2' : \"Et globalement, diriez-vous que vous faîtes confiance aux médicaments et traitements suivants ? Les médicaments de thérapie génique\"\n",
    "                      , 'Q5_3' : \"Et globalement, diriez-vous que vous faîtes confiance aux médicaments et traitements suivants ? Les médicaments d'immunothérapie\"\n",
    "                      , 'Q9_0' : \"En matière d’information sur les médicaments, diriez-vous que vous faites personnellement tout à fait confiance, plutôt confiance, plutôt pas confiance ou pas du tout confiance : A votre médecin traitant\"\n",
    "                      , 'Q9_1' : \"En matière d’information sur les médicaments, diriez-vous que vous faites personnellement tout à fait confiance, plutôt confiance, plutôt pas confiance ou pas du tout confiance : Aux médecins spécialistes\"\n",
    "                      , 'Q9_2' : \"En matière d’information sur les médicaments, diriez-vous que vous faites personnellement tout à fait confiance, plutôt confiance, plutôt pas confiance ou pas du tout confiance : Aux pharmaciens\"\n",
    "                      , 'Q9_3' : \"En matière d’information sur les médicaments, diriez-vous que vous faites personnellement tout à fait confiance, plutôt confiance, plutôt pas confiance ou pas du tout confiance : Aux infirmières\"\n",
    "                      , 'Q9_4' : \"En matière d’information sur les médicaments, diriez-vous que vous faites personnellement tout à fait confiance, plutôt confiance, plutôt pas confiance ou pas du tout confiance : Aux autorités de santé/Aux pouvoirs publics\"\n",
    "                      , 'Q9_5' : \"En matière d’information sur les médicaments, diriez-vous que vous faites personnellement tout à fait confiance, plutôt confiance, plutôt pas confiance ou pas du tout confiance : Aux chercheurs\"\n",
    "                      , 'Q9_6' : \"En matière d’information sur les médicaments, diriez-vous que vous faites personnellement tout à fait confiance, plutôt confiance, plutôt pas confiance ou pas du tout confiance : Aux associations de patients\"\n",
    "                      , 'Q9_7' : \"En matière d’information sur les médicaments, diriez-vous que vous faites personnellement tout à fait confiance, plutôt confiance, plutôt pas confiance ou pas du tout confiance : Aux notices des médicaments\"\n",
    "                      , 'Q9_8' : \"En matière d’information sur les médicaments, diriez-vous que vous faites personnellement tout à fait confiance, plutôt confiance, plutôt pas confiance ou pas du tout confiance : Aux entreprises du médicament\"\n",
    "                      , 'Q9_9' : \"En matière d’information sur les médicaments, diriez-vous que vous faites personnellement tout à fait confiance, plutôt confiance, plutôt pas confiance ou pas du tout confiance : Aux responsables politiques\"\n",
    "                      , 'Q9_10' : \"En matière d’information sur les médicaments, diriez-vous que vous faites personnellement tout à fait confiance, plutôt confiance, plutôt pas confiance ou pas du tout confiance : A internet\"\n",
    "                      , 'Q9_11' : \"En matière d’information sur les médicaments, diriez-vous que vous faites personnellement tout à fait confiance, plutôt confiance, plutôt pas confiance ou pas du tout confiance : A la presse écrite\"\n",
    "                      , 'Q9_12' : \"En matière d’information sur les médicaments, diriez-vous que vous faites personnellement tout à fait confiance, plutôt confiance, plutôt pas confiance ou pas du tout confiance : A la télévision\"\n",
    "                      , 'Q9_13' : \"En matière d’information sur les médicaments, diriez-vous que vous faites personnellement tout à fait confiance, plutôt confiance, plutôt pas confiance ou pas du tout confiance : A la radio\"\n",
    "                      , 'Q9_14' : \"En matière d’information sur les médicaments, diriez-vous que vous faites personnellement tout à fait confiance, plutôt confiance, plutôt pas confiance ou pas du tout confiance : A votre entourage\"\n",
    "                      , 'Q9_15' : \"En matière d’information sur les médicaments, diriez-vous que vous faites personnellement tout à fait confiance, plutôt confiance, plutôt pas confiance ou pas du tout confiance : Aux livres publiés sur les médicaments\"\n",
    "                      , 'Q9_16' : \"En matière d’information sur les médicaments, diriez-vous que vous faites personnellement tout à fait confiance, plutôt confiance, plutôt pas confiance ou pas du tout confiance : Aux médecins qui exercent à l'hôpital\"\n",
    "                      , 'Q9_17' : \"En matière d’information sur les médicaments, diriez-vous que vous faites personnellement tout à fait confiance, plutôt confiance, plutôt pas confiance ou pas du tout confiance : Aux lanceurs d'alerte de l'opinion publique\"\n",
    "                      , 'Q11_0' : \"Diriez-vous que vous avez tout à fait, plutôt, plutôt pas ou pas du tout confiance dans les entreprises du secteur : Du pétrole\"\n",
    "                      , 'Q11_1' : \"Diriez-vous que vous avez tout à fait, plutôt, plutôt pas ou pas du tout confiance dans les entreprises du secteur : De la grande distribution\"\n",
    "                      , 'Q11_2' : \"Diriez-vous que vous avez tout à fait, plutôt, plutôt pas ou pas du tout confiance dans les entreprises du secteur : Des télécommunications\"\n",
    "                      , 'Q11_3' : \"Diriez-vous que vous avez tout à fait, plutôt, plutôt pas ou pas du tout confiance dans les entreprises du secteur : De l'agro-alimentaire\"\n",
    "                      , 'Q11_4' : \"Diriez-vous que vous avez tout à fait, plutôt, plutôt pas ou pas du tout confiance dans les entreprises du secteur : Du médicament\"\n",
    "                      , 'Q11_5' : \"Diriez-vous que vous avez tout à fait, plutôt, plutôt pas ou pas du tout confiance dans les entreprises du secteur : De la banque et de l'assurance\"\n",
    "                      , 'Q11_6' : \"Diriez-vous que vous avez tout à fait, plutôt, plutôt pas ou pas du tout confiance dans les entreprises du secteur : Du bâtiment et des travaux publics\"\n",
    "                      , 'Q11_7' : \"Diriez-vous que vous avez tout à fait, plutôt, plutôt pas ou pas du tout confiance dans les entreprises du secteur : De l'automobile\"\n",
    "                      , 'Q11_8' : \"Diriez-vous que vous avez tout à fait, plutôt, plutôt pas ou pas du tout confiance dans les entreprises du secteur : Du nucléaire\"\n",
    "                      , 'Q11_9' : \"Diriez-vous que vous avez tout à fait, plutôt, plutôt pas ou pas du tout confiance dans les entreprises du secteur : De l'aéronautique et aérospatial\"\n",
    "                      , 'Q11_10' : \"Diriez-vous que vous avez tout à fait, plutôt, plutôt pas ou pas du tout confiance dans les entreprises du secteur : Du numérique\"\n",
    "                      , 'Q11_11' : \"Diriez-vous que vous avez tout à fait, plutôt, plutôt pas ou pas du tout confiance dans les entreprises du secteur : De la chimie\"}"
   ]
  },
  {
   "cell_type": "code",
   "execution_count": 313,
   "metadata": {},
   "outputs": [
    {
     "data": {
      "text/plain": [
       "GENDER\n",
       "2    527\n",
       "1    502\n",
       "Name: count, dtype: int64"
      ]
     },
     "execution_count": 313,
     "metadata": {},
     "output_type": "execute_result"
    }
   ],
   "source": [
    "# Variable 'GENDER'\n",
    "# Question : Sexe\n",
    "data['GENDER'].value_counts()"
   ]
  },
  {
   "cell_type": "code",
   "execution_count": 314,
   "metadata": {},
   "outputs": [],
   "source": [
    "data['GENDER'] = data['GENDER'].astype('category')\n",
    "data['GENDER'] =data['GENDER'].cat.rename_categories({1 : \"Homme\"\n",
    "                                                 , 2 : \"Femme\"})"
   ]
  },
  {
   "cell_type": "code",
   "execution_count": 315,
   "metadata": {},
   "outputs": [],
   "source": [
    "data['GENDER'] = pd.Categorical(data['GENDER'], \n",
    "                            categories=['Femme', 'Homme'], \n",
    "                            ordered=True)"
   ]
  },
  {
   "cell_type": "code",
   "execution_count": 316,
   "metadata": {},
   "outputs": [
    {
     "data": {
      "text/plain": [
       "AGER\n",
       "5    291\n",
       "4    230\n",
       "3    195\n",
       "2    175\n",
       "1    138\n",
       "Name: count, dtype: int64"
      ]
     },
     "execution_count": 316,
     "metadata": {},
     "output_type": "execute_result"
    }
   ],
   "source": [
    "# Variable 'AGER'\n",
    "# Question : Groupe d'ages\n",
    "data['AGER'].value_counts()"
   ]
  },
  {
   "cell_type": "code",
   "execution_count": 317,
   "metadata": {},
   "outputs": [],
   "source": [
    "data['AGER'] = data['AGER'].astype('category')\n",
    "data['AGER'] =data['AGER'].cat.rename_categories({1 : \"18 à 24 ans\"\n",
    "                                                 , 2 : \"25 à 34 ans\"\n",
    "                                                 , 3 : \"35 à 44 ans\"\n",
    "                                                 , 4 : \"45 à 59 ans\"\n",
    "                                                 , 5 : \"60 ans et plus\"})"
   ]
  },
  {
   "cell_type": "code",
   "execution_count": 318,
   "metadata": {},
   "outputs": [],
   "source": [
    "#changer l'order des categories de la variable 'AGER'\n",
    "data['AGER'] = pd.Categorical(data['AGER'], \n",
    "                            categories=['18 à 24 ans'\n",
    "                                        , '25 à 34 ans'\n",
    "                                        , '35 à 44 ans'\n",
    "                                       , '45 à 59 ans'\n",
    "                                       , '60 ans et plus'], \n",
    "                            ordered=True)"
   ]
  },
  {
   "cell_type": "code",
   "execution_count": 319,
   "metadata": {},
   "outputs": [
    {
     "data": {
      "text/plain": [
       "REG9\n",
       "1    191\n",
       "5    135\n",
       "9    130\n",
       "8    128\n",
       "7    120\n",
       "2     94\n",
       "6     87\n",
       "3     78\n",
       "4     66\n",
       "Name: count, dtype: int64"
      ]
     },
     "execution_count": 319,
     "metadata": {},
     "output_type": "execute_result"
    }
   ],
   "source": [
    "# Variable 'REG9'\n",
    "# Question : \"Région\"\n",
    "data['REG9'].value_counts()"
   ]
  },
  {
   "cell_type": "code",
   "execution_count": 320,
   "metadata": {},
   "outputs": [],
   "source": [
    "data['REG9'] = data['REG9'].astype('category')\n",
    "data['REG9'] = data['REG9'].cat.rename_categories({1 : \"Ile-de-France\"\n",
    "                                                 , 2 : \"Bassin Parisien Ouest\"\n",
    "                                                 , 3 : \"Bassin Parisien Est\"\n",
    "                                                 , 4 : \"Nord\"\n",
    "                                                 , 5 : \"Ouest\"\n",
    "                                                 , 6 : \"Est\"\n",
    "                                                 , 7 : \"Sud-Ouest\"\n",
    "                                                 , 8 : \"Sud-Est\"\n",
    "                                                 , 9 : \"Méditerranée\"})"
   ]
  },
  {
   "cell_type": "code",
   "execution_count": 321,
   "metadata": {},
   "outputs": [
    {
     "data": {
      "text/plain": [
       "AGGLO\n",
       "4    379\n",
       "1    182\n",
       "5    168\n",
       "2    160\n",
       "3    140\n",
       "Name: count, dtype: int64"
      ]
     },
     "execution_count": 321,
     "metadata": {},
     "output_type": "execute_result"
    }
   ],
   "source": [
    "# Variable 'AGGLO'\n",
    "# Question : \"Agglomération\"\n",
    "data['AGGLO'].value_counts()"
   ]
  },
  {
   "cell_type": "code",
   "execution_count": 322,
   "metadata": {},
   "outputs": [],
   "source": [
    "data['AGGLO'] = data['AGGLO'].astype('category')\n",
    "data['AGGLO'] = data['AGGLO'].cat.rename_categories({1 : \"Rural\"\n",
    "                                                 , 2 : \"2.000 à 19.999 hab.\"\n",
    "                                                 , 3 : \"20.000 à 99.999 hab.\"\n",
    "                                                 , 4 : \"100.000 hab. et plus\"\n",
    "                                                 , 5 : \"Agglomération de Paris\"})"
   ]
  },
  {
   "cell_type": "code",
   "execution_count": 323,
   "metadata": {},
   "outputs": [],
   "source": [
    "#changer l'order des categories de la variable 'AGGLO'\n",
    "data['AGGLO'] = pd.Categorical(data['AGGLO'], \n",
    "                            categories=['Rural'\n",
    "                                        , '2.000 à 19.999 hab.'\n",
    "                                        , '20.000 à 99.999 hab.'\n",
    "                                       , '100.000 hab. et plus'\n",
    "                                       , 'Agglomération de Paris'], \n",
    "                            ordered=True)"
   ]
  },
  {
   "cell_type": "code",
   "execution_count": 324,
   "metadata": {},
   "outputs": [
    {
     "data": {
      "text/plain": [
       "HHSIZE\n",
       "2    403\n",
       "1    239\n",
       "3    175\n",
       "4    155\n",
       "5     57\n",
       "Name: count, dtype: int64"
      ]
     },
     "execution_count": 324,
     "metadata": {},
     "output_type": "execute_result"
    }
   ],
   "source": [
    "# Variable 'HHSIZE'\n",
    "# Question : \"Taille du foyer\"\n",
    "data['HHSIZE'].value_counts()"
   ]
  },
  {
   "cell_type": "code",
   "execution_count": 325,
   "metadata": {},
   "outputs": [],
   "source": [
    "data['HHSIZE'] = data['HHSIZE'].astype('category')\n",
    "data['HHSIZE'] = data['HHSIZE'].cat.rename_categories({1 : \"1\"\n",
    "                                                 , 2 : \"2\"\n",
    "                                                 , 3 : \"3\"\n",
    "                                                 , 4 : \"4\"\n",
    "                                                 , 5 : \"5 personnes et plus\"})"
   ]
  },
  {
   "cell_type": "code",
   "execution_count": 326,
   "metadata": {},
   "outputs": [],
   "source": [
    "#changer l'order des categories de la variable 'HHSIZE'\n",
    "data['HHSIZE'] = pd.Categorical(data['HHSIZE'], \n",
    "                            categories=['1'\n",
    "                                        , '2'\n",
    "                                        , '3'\n",
    "                                       , '4'\n",
    "                                       , '5 personnes et plus'], \n",
    "                            ordered=True)"
   ]
  },
  {
   "cell_type": "code",
   "execution_count": 327,
   "metadata": {},
   "outputs": [
    {
     "data": {
      "text/plain": [
       "MAR\n",
       "3    432\n",
       "1    258\n",
       "2    152\n",
       "7     80\n",
       "5     77\n",
       "6     17\n",
       "4     13\n",
       "Name: count, dtype: int64"
      ]
     },
     "execution_count": 327,
     "metadata": {},
     "output_type": "execute_result"
    }
   ],
   "source": [
    "# Variable 'MAR'\n",
    "# Question : \"Etat matrimonial\"\n",
    "data['MAR'].value_counts()"
   ]
  },
  {
   "cell_type": "code",
   "execution_count": 328,
   "metadata": {},
   "outputs": [],
   "source": [
    "data['MAR'] = data['MAR'].astype('category')\n",
    "data['MAR'] =data['MAR'].cat.rename_categories({1 : \"Célibataire\"\n",
    "                                                 , 2 : \"En union libre\"\n",
    "                                                 , 3 : \"Marié(e)\"\n",
    "                                                 , 4 : \"Séparé(e)\"\n",
    "                                                 , 5 : \"Divorcé(e)\"\n",
    "                                                 , 6 : \"Veuf/ve\"\n",
    "                                                 , 7 : \"Pacsé(e)\"})"
   ]
  },
  {
   "cell_type": "code",
   "execution_count": 329,
   "metadata": {},
   "outputs": [],
   "source": [
    "#changer l'order des categories de la variable 'MAR'\n",
    "data['MAR'] = pd.Categorical(data['MAR'], \n",
    "                            categories=['Célibataire'\n",
    "                                        , 'En union libre'\n",
    "                                        , 'Marié(e)'\n",
    "                                        , 'Séparé(e)'\n",
    "                                        , 'Divorcé(e)'\n",
    "                                        , 'Veuf/ve'\n",
    "                                        , 'Pacsé(e)'], \n",
    "                            ordered=True)"
   ]
  },
  {
   "cell_type": "code",
   "execution_count": 330,
   "metadata": {},
   "outputs": [
    {
     "data": {
      "text/plain": [
       "EMP\n",
       "1    496\n",
       "7    255\n",
       "2     80\n",
       "8     53\n",
       "4     47\n",
       "3     44\n",
       "6     38\n",
       "5     16\n",
       "Name: count, dtype: int64"
      ]
     },
     "execution_count": 330,
     "metadata": {},
     "output_type": "execute_result"
    }
   ],
   "source": [
    "# Variable 'EMP'\n",
    "# Question : \"Emploi\"\n",
    "data['EMP'].value_counts()"
   ]
  },
  {
   "cell_type": "code",
   "execution_count": 331,
   "metadata": {},
   "outputs": [],
   "source": [
    "data['EMP'] = data['EMP'].astype('category')\n",
    "data['EMP'] =data['EMP'].cat.rename_categories({1 : \"Salarié(e) à plein temps\"\n",
    "                                                 , 2 : \"Salarié(e) à temps partiel\"\n",
    "                                                 , 3 : \"Travaille à son compte\"\n",
    "                                                 , 4 : \"Ne travaille pas actuellement mais en recherche d'emploi\"\n",
    "                                                 , 5 : \"Ne travaille pas actuellement et ne recherche pas d'emploi / en incapacité de travail\"\n",
    "                                                 , 6 : \"Homme/femme au foyer\"\n",
    "                                                 , 7 : \"Retraité(e)\"\n",
    "                                                 , 8 : \"Etudiant/élève\"})"
   ]
  },
  {
   "cell_type": "code",
   "execution_count": 332,
   "metadata": {},
   "outputs": [
    {
     "data": {
      "text/plain": [
       "PCSI\n",
       "7    255\n",
       "5    251\n",
       "4    172\n",
       "3    145\n",
       "8    114\n",
       "6     55\n",
       "2     35\n",
       "1      2\n",
       "Name: count, dtype: int64"
      ]
     },
     "execution_count": 332,
     "metadata": {},
     "output_type": "execute_result"
    }
   ],
   "source": [
    "# Variable 'PCSI'\n",
    "# Question : \"CSP\"\n",
    "data['PCSI'].value_counts()"
   ]
  },
  {
   "cell_type": "code",
   "execution_count": 333,
   "metadata": {},
   "outputs": [],
   "source": [
    "data['PCSI'] = data['PCSI'].astype('category')\n",
    "data['PCSI'] = data['PCSI'].cat.rename_categories({1 : \"Agriculteur exploitant\"\n",
    "                                                 , 2 : \"Profession indépendante\"\n",
    "                                                 , 3 : \"Cadre supérieur\"\n",
    "                                                 , 4 : \"Profession intermédiaire\"\n",
    "                                                 , 5 : \"Employé\"\n",
    "                                                 , 6 : \"Ouvrier\"\n",
    "                                                 , 7 : \"Retraité\"\n",
    "                                                 , 8 : \"Inactif\"})"
   ]
  },
  {
   "cell_type": "code",
   "execution_count": 334,
   "metadata": {},
   "outputs": [
    {
     "data": {
      "text/plain": [
       "EDU\n",
       "5    240\n",
       "6    224\n",
       "4    222\n",
       "7    169\n",
       "3    131\n",
       "2     31\n",
       "1     12\n",
       "Name: count, dtype: int64"
      ]
     },
     "execution_count": 334,
     "metadata": {},
     "output_type": "execute_result"
    }
   ],
   "source": [
    "# Variable 'EDU'\n",
    "# Question : \"Diplôme\"\n",
    "data['EDU'].value_counts()"
   ]
  },
  {
   "cell_type": "code",
   "execution_count": 335,
   "metadata": {},
   "outputs": [],
   "source": [
    "data['EDU'] = data['EDU'].astype('category')\n",
    "data['EDU'] = data['EDU'].cat.rename_categories({1 : \"École Élémentaire\"\n",
    "                                                 , 2 : \"Collège (BREVET)\"\n",
    "                                                 , 3 : \"CAP, BEP\"\n",
    "                                                 , 4 : \"Baccalauréat\"\n",
    "                                                 , 5 : \"Bac +2 (BTS, DEUG, DUT)\"\n",
    "                                                 , 6 : \"Bac +3/+4 (Licence, Maîtrise, Master 1)\"\n",
    "                                                 , 7 : \"Bac +5 et plus (Grandes Écoles, DESS, DEA, Doctorat, Master 2)\"})"
   ]
  },
  {
   "cell_type": "code",
   "execution_count": 336,
   "metadata": {},
   "outputs": [],
   "source": [
    "#changer l'order des categories de la variable 'EDU'\n",
    "data['EDU'] = pd.Categorical(data['EDU'], \n",
    "                            categories=['École Élémentaire'\n",
    "                                        , 'Collège (BREVET)'\n",
    "                                        , 'CAP, BEP'\n",
    "                                        , 'Baccalauréat'\n",
    "                                        , 'Bac +2 (BTS, DEUG, DUT)'\n",
    "                                        , 'Bac +3/+4 (Licence, Maîtrise, Master 1)'\n",
    "                                        , 'Bac +5 et plus (Grandes Écoles, DESS, DEA, Doctorat, Master 2)'], \n",
    "                            ordered=True)"
   ]
  },
  {
   "cell_type": "code",
   "execution_count": 337,
   "metadata": {},
   "outputs": [
    {
     "data": {
      "text/plain": [
       "INC\n",
       "10    157\n",
       "9     141\n",
       "8     137\n",
       "14    129\n",
       "11     88\n",
       "7      76\n",
       "6      62\n",
       "12     51\n",
       "5      42\n",
       "1      42\n",
       "4      39\n",
       "3      35\n",
       "2      21\n",
       "13      9\n",
       "Name: count, dtype: int64"
      ]
     },
     "execution_count": 337,
     "metadata": {},
     "output_type": "execute_result"
    }
   ],
   "source": [
    "# Variable 'INC'\n",
    "# Question : Revenu annuel net du foyer\n",
    "data['INC'].value_counts()"
   ]
  },
  {
   "cell_type": "code",
   "execution_count": 338,
   "metadata": {},
   "outputs": [],
   "source": [
    "data['INC'] = data['INC'].astype('category')\n",
    "data['INC'] = data['INC'].cat.rename_categories({1 : \"Entre 0 € et 6000 €\"\n",
    "                                                 , 2 : \"De 6001 € à 9000 €\"\n",
    "                                                 , 3 : \"De 9001 € à 12000 €\"\n",
    "                                                 , 4 : \"De 12001 € à 15000 €\"\n",
    "                                                 , 5 : \"De 15001 € à 18000 €\"\n",
    "                                                 , 6 : \"De 18001 € à 21000 €\"\n",
    "                                                 , 7 : \"De 21001 € à 24000 €\"\n",
    "                                                 , 8 : \"De 24001 € à 30000 €\"\n",
    "                                                 , 9 : \"De 30001 € à 36000 €\"\n",
    "                                                 , 10 : \"De 36001 € à 48000 €\"\n",
    "                                                 , 11 : \"De 48001 € à 60000 €\"\n",
    "                                                 , 12 : \"De 60001 € à 120000 €\"\n",
    "                                                 , 13 : \"120001 € et plus\"\n",
    "                                                 , 14 : \"Refus de répondre\"})\n",
    "   "
   ]
  },
  {
   "cell_type": "code",
   "execution_count": 339,
   "metadata": {},
   "outputs": [],
   "source": [
    "#changer l'order des categories de la variable 'INC'\n",
    "data['INC'] = pd.Categorical(data['INC'], \n",
    "                            categories=['Entre 0 € et 6000 €'\n",
    "                                        , 'De 6001 € à 9000 €'\n",
    "                                        , 'De 9001 € à 12000 €'\n",
    "                                        , 'De 12001 € à 15000 €'\n",
    "                                        , 'De 15001 € à 18000 €'\n",
    "                                        , 'De 18001 € à 21000 €'\n",
    "                                        , 'De 21001 € à 24000 €'\n",
    "                                        , 'De 24001 € à 30000 €'\n",
    "                                        , 'De 30001 € à 36000 €'\n",
    "                                        , 'De 36001 € à 48000 €'\n",
    "                                        , 'De 48001 € à 60000 €'\n",
    "                                        , 'De 60001 € à 120000 €'\n",
    "                                        , '120001 € et plus'\n",
    "                                        , 'Refus de répondre'], \n",
    "                            ordered=True)"
   ]
  },
  {
   "cell_type": "code",
   "execution_count": 340,
   "metadata": {},
   "outputs": [
    {
     "data": {
      "text/plain": [
       "RS1_0\n",
       "2    819\n",
       "1    210\n",
       "Name: count, dtype: int64"
      ]
     },
     "execution_count": 340,
     "metadata": {},
     "output_type": "execute_result"
    }
   ],
   "source": [
    "# Variable 'RS1_0'\n",
    "# Question : Vous-même ou l’un de vos proches, souffre-t-il d’une ou plusieurs Affection(s) de Longue Durée (ALD) (Moi-même) ?\n",
    "data['RS1_0'].value_counts()"
   ]
  },
  {
   "cell_type": "code",
   "execution_count": 341,
   "metadata": {},
   "outputs": [],
   "source": [
    "data['RS1_0'] = data['RS1_0'].astype('category')\n",
    "data['RS1_0'] = data['RS1_0'].cat.rename_categories({1 : \"Oui\"\n",
    "                                                 , 2 : \"Non\"})"
   ]
  },
  {
   "cell_type": "code",
   "execution_count": 342,
   "metadata": {},
   "outputs": [
    {
     "data": {
      "text/plain": [
       "RS1_1\n",
       "2    772\n",
       "1    257\n",
       "Name: count, dtype: int64"
      ]
     },
     "execution_count": 342,
     "metadata": {},
     "output_type": "execute_result"
    }
   ],
   "source": [
    "# Variable 'RS1_1'\n",
    "# Question : Vous-même ou l’un de vos proches, souffre-t-il d’une ou plusieurs Affection(s) de Longue Durée (ALD), (Un de mes proches) ?\n",
    "data['RS1_1'].value_counts()"
   ]
  },
  {
   "cell_type": "code",
   "execution_count": 343,
   "metadata": {},
   "outputs": [],
   "source": [
    "data['RS1_1'] = data['RS1_1'].astype('category')\n",
    "data['RS1_1'] = data['RS1_1'].cat.rename_categories({1 : \"Oui\"\n",
    "                                                 , 2 : \"Non\"})"
   ]
  },
  {
   "cell_type": "code",
   "execution_count": 344,
   "metadata": {},
   "outputs": [
    {
     "data": {
      "text/plain": [
       "RS2A\n",
       "     780\n",
       "1     88\n",
       "7     51\n",
       "6     26\n",
       "5     23\n",
       "8     22\n",
       "4     21\n",
       "2     11\n",
       "3      7\n",
       "Name: count, dtype: int64"
      ]
     },
     "execution_count": 344,
     "metadata": {},
     "output_type": "execute_result"
    }
   ],
   "source": [
    "# Variable 'RS2A'\n",
    "# Question : A quelle fréquence prenez-vous des médicaments, qu’ils soient avec ou sans ordonnance ? (sans prendre en compte la pilule contraceptive)\n",
    "data['RS2A'].value_counts()"
   ]
  },
  {
   "cell_type": "code",
   "execution_count": 345,
   "metadata": {},
   "outputs": [
    {
     "data": {
      "text/plain": [
       "array([' ', '5', '6', '7', '4', '1', '8', '2', '3'], dtype=object)"
      ]
     },
     "execution_count": 345,
     "metadata": {},
     "output_type": "execute_result"
    }
   ],
   "source": [
    "data['RS2A'].unique()"
   ]
  },
  {
   "cell_type": "code",
   "execution_count": 346,
   "metadata": {},
   "outputs": [],
   "source": [
    "data['RS2A'] = data['RS2A'].astype('category')\n",
    "data['RS2A'] = data['RS2A'].cat.rename_categories({' ' : \" \"\n",
    "                                                 , '1' : \"Tous les jours\"\n",
    "                                                 , '2' : \"Plusieurs fois par semaine\"\n",
    "                                                 , '3' : \"Environ 1 fois par semaine\"\n",
    "                                                 , '4' : \"2 à 3 fois par mois\"\n",
    "                                                 , '5' : \"1 fois par mois\"\n",
    "                                                 , '6' : \"1 fois tous les 2-3 mois\"\n",
    "                                                 , '7' : \"Moins souvent\"\n",
    "                                                 , '8' : \"Jamais\"})"
   ]
  },
  {
   "cell_type": "code",
   "execution_count": 347,
   "metadata": {},
   "outputs": [],
   "source": [
    "#changer l'order des categories de la variable 'RS2A'\n",
    "data['RS2A'] = pd.Categorical(data['RS2A'], \n",
    "                            categories=['Jamais'\n",
    "                                        , 'Moins souvent'\n",
    "                                        , '1 fois tous les 2-3 mois'\n",
    "                                        , '1 fois par mois'\n",
    "                                        , '2 à 3 fois par mois'\n",
    "                                        , 'Environ 1 fois par semaine'\n",
    "                                        , 'Plusieurs fois par semaine'\n",
    "                                        , 'Tous les jours'\n",
    "                                        , ' '], \n",
    "                            ordered=True)"
   ]
  },
  {
   "cell_type": "code",
   "execution_count": 348,
   "metadata": {},
   "outputs": [
    {
     "data": {
      "text/plain": [
       "RS2B\n",
       "1    305\n",
       "     249\n",
       "7    172\n",
       "8     70\n",
       "6     69\n",
       "4     68\n",
       "5     44\n",
       "3     28\n",
       "2     24\n",
       "Name: count, dtype: int64"
      ]
     },
     "execution_count": 348,
     "metadata": {},
     "output_type": "execute_result"
    }
   ],
   "source": [
    "# Variable 'RS2B'\n",
    "# Question : A quelle fréquence prenez-vous des médicaments, qu’ils soient avec ou sans ordonnance ?\n",
    "data['RS2B'].value_counts()"
   ]
  },
  {
   "cell_type": "code",
   "execution_count": 349,
   "metadata": {},
   "outputs": [],
   "source": [
    "data['RS2B'] = data['RS2B'].astype('category')\n",
    "data['RS2B'] = data['RS2B'].cat.rename_categories({' ' : \" \"\n",
    "                                                 , '1' : \"Tous les jours\"\n",
    "                                                 , '2' : \"Plusieurs fois par semaine\"\n",
    "                                                 , '3' : \"Environ 1 fois par semaine\"\n",
    "                                                 , '4' : \"2 à 3 fois par mois\"\n",
    "                                                 , '5' : \"1 fois par mois\"\n",
    "                                                 , '6' : \"1 fois tous les 2-3 mois\"\n",
    "                                                 , '7' : \"Moins souvent\"\n",
    "                                                 , '8' : \"Jamais\"})"
   ]
  },
  {
   "cell_type": "code",
   "execution_count": 350,
   "metadata": {},
   "outputs": [],
   "source": [
    "#changer l'order des categories de la variable 'RS2B'\n",
    "data['RS2B'] = pd.Categorical(data['RS2B'], \n",
    "                            categories=['Jamais'\n",
    "                                        , 'Moins souvent'\n",
    "                                        , '1 fois tous les 2-3 mois'\n",
    "                                        , '1 fois par mois'\n",
    "                                        , '2 à 3 fois par mois'\n",
    "                                        , 'Environ 1 fois par semaine'\n",
    "                                        , 'Plusieurs fois par semaine'\n",
    "                                        , 'Tous les jours'\n",
    "                                        , ' '], \n",
    "                            ordered=True)"
   ]
  },
  {
   "cell_type": "code",
   "execution_count": 351,
   "metadata": {},
   "outputs": [
    {
     "data": {
      "text/plain": [
       "Q3_0\n",
       "2    643\n",
       "1    256\n",
       "3    112\n",
       "4     18\n",
       "Name: count, dtype: int64"
      ]
     },
     "execution_count": 351,
     "metadata": {},
     "output_type": "execute_result"
    }
   ],
   "source": [
    "# Variable 'Q3_0'\n",
    "# Question : Pour chacun des types de médicaments ou traitements suivants, lui faites-vous tout à fait confiance, plutôt confiance, plutôt pas confiance ou pas du tout confiance ? Les médicaments sur ordonnance\n",
    "data['Q3_0'].value_counts()"
   ]
  },
  {
   "cell_type": "code",
   "execution_count": 352,
   "metadata": {},
   "outputs": [
    {
     "data": {
      "text/plain": [
       "Q3_1\n",
       "2    600\n",
       "3    307\n",
       "1     74\n",
       "4     48\n",
       "Name: count, dtype: int64"
      ]
     },
     "execution_count": 352,
     "metadata": {},
     "output_type": "execute_result"
    }
   ],
   "source": [
    "# Variable 'Q3_1'\n",
    "# Question : Pour chacun des types de médicaments ou traitements suivants, lui faites-vous tout à fait confiance, plutôt confiance, plutôt pas confiance ou pas du tout confiance ? Les médicaments sans ordonnance\n",
    "data['Q3_1'].value_counts()"
   ]
  },
  {
   "cell_type": "code",
   "execution_count": 353,
   "metadata": {},
   "outputs": [
    {
     "data": {
      "text/plain": [
       "Q3_2\n",
       "2    672\n",
       "1    219\n",
       "3    116\n",
       "4     22\n",
       "Name: count, dtype: int64"
      ]
     },
     "execution_count": 353,
     "metadata": {},
     "output_type": "execute_result"
    }
   ],
   "source": [
    "# Variable 'Q3_2'\n",
    "# Question : Pour chacun des types de médicaments ou traitements suivants, lui faites-vous tout à fait confiance, plutôt confiance, plutôt pas confiance ou pas du tout confiance ? Les médicaments remboursés\n",
    "data['Q3_2'].value_counts()"
   ]
  },
  {
   "cell_type": "code",
   "execution_count": 354,
   "metadata": {},
   "outputs": [
    {
     "data": {
      "text/plain": [
       "Q3_3\n",
       "2    629\n",
       "3    278\n",
       "1     73\n",
       "4     49\n",
       "Name: count, dtype: int64"
      ]
     },
     "execution_count": 354,
     "metadata": {},
     "output_type": "execute_result"
    }
   ],
   "source": [
    "# Variable 'Q3_3'\n",
    "# Question : Pour chacun des types de médicaments ou traitements suivants, lui faites-vous tout à fait confiance, plutôt confiance, plutôt pas confiance ou pas du tout confiance ? Les médicaments non remboursés\n",
    "data['Q3_3'].value_counts()"
   ]
  },
  {
   "cell_type": "code",
   "execution_count": 355,
   "metadata": {},
   "outputs": [
    {
     "data": {
      "text/plain": [
       "Q3_4\n",
       "2    652\n",
       "1    184\n",
       "3    160\n",
       "4     33\n",
       "Name: count, dtype: int64"
      ]
     },
     "execution_count": 355,
     "metadata": {},
     "output_type": "execute_result"
    }
   ],
   "source": [
    "# Variable 'Q3_4'\n",
    "# Question : Pour chacun des types de médicaments ou traitements suivants, lui faites-vous tout à fait confiance, plutôt confiance, plutôt pas confiance ou pas du tout confiance ? Les médicaments de marque\n",
    "data['Q3_4'].value_counts()"
   ]
  },
  {
   "cell_type": "code",
   "execution_count": 356,
   "metadata": {},
   "outputs": [
    {
     "data": {
      "text/plain": [
       "Q3_5\n",
       "2    565\n",
       "3    202\n",
       "1    182\n",
       "4     80\n",
       "Name: count, dtype: int64"
      ]
     },
     "execution_count": 356,
     "metadata": {},
     "output_type": "execute_result"
    }
   ],
   "source": [
    "# Variable 'Q3_5'\n",
    "# Question : Pour chacun des types de médicaments ou traitements suivants, lui faites-vous tout à fait confiance, plutôt confiance, plutôt pas confiance ou pas du tout confiance ? Les médicaments génériques\n",
    "data['Q3_5'].value_counts()"
   ]
  },
  {
   "cell_type": "code",
   "execution_count": 357,
   "metadata": {},
   "outputs": [
    {
     "data": {
      "text/plain": [
       "Q3_6\n",
       "2    520\n",
       "1    271\n",
       "3    163\n",
       "4     75\n",
       "Name: count, dtype: int64"
      ]
     },
     "execution_count": 357,
     "metadata": {},
     "output_type": "execute_result"
    }
   ],
   "source": [
    "# Variable 'Q3_6'\n",
    "# Question : Pour chacun des types de médicaments ou traitements suivants, lui faites-vous tout à fait confiance, plutôt confiance, plutôt pas confiance ou pas du tout confiance ? Les vaccins\n",
    "data['Q3_6'].value_counts()"
   ]
  },
  {
   "cell_type": "code",
   "execution_count": 358,
   "metadata": {
    "scrolled": true
   },
   "outputs": [
    {
     "data": {
      "text/plain": [
       "Q3_7\n",
       "2    447\n",
       "3    245\n",
       "1    170\n",
       "4    167\n",
       "Name: count, dtype: int64"
      ]
     },
     "execution_count": 358,
     "metadata": {},
     "output_type": "execute_result"
    }
   ],
   "source": [
    "# Variable 'Q3_7'\n",
    "# Question : Pour chacun des types de médicaments ou traitements suivants, lui faites-vous tout à fait confiance, plutôt confiance, plutôt pas confiance ou pas du tout confiance ? L'homéopathie\n",
    "data['Q3_7'].value_counts()"
   ]
  },
  {
   "cell_type": "code",
   "execution_count": 359,
   "metadata": {},
   "outputs": [],
   "source": [
    "data[['Q3_0', 'Q3_1', 'Q3_2', 'Q3_3', 'Q3_4', 'Q3_5', 'Q3_6', 'Q3_7']] = data[['Q3_0', 'Q3_1', 'Q3_2', 'Q3_3', 'Q3_4', 'Q3_5', 'Q3_6', 'Q3_7']].astype('category')"
   ]
  },
  {
   "cell_type": "code",
   "execution_count": 360,
   "metadata": {},
   "outputs": [],
   "source": [
    "ItemsQ3 = ['Q3_0', 'Q3_1', 'Q3_2', 'Q3_3', 'Q3_4', 'Q3_5', 'Q3_6', 'Q3_7']"
   ]
  },
  {
   "cell_type": "code",
   "execution_count": 361,
   "metadata": {},
   "outputs": [],
   "source": [
    "for i in data[ItemsQ3].columns:\n",
    "    data[i] = data[i].cat.rename_categories({1: \"Tout à fait confiance\"\n",
    "                                                 , 2 : \"Plutôt confiance\"\n",
    "                                                 , 3 : \"Plutôt pas confiance\"\n",
    "                                                 , 4 : \"Pas du tout confiance\"})"
   ]
  },
  {
   "cell_type": "code",
   "execution_count": 362,
   "metadata": {},
   "outputs": [],
   "source": [
    "#changer l'order des categories\n",
    "for i in data[ItemsQ3].columns:\n",
    "    data[i] = pd.Categorical(data[i], \n",
    "                            categories=['Pas du tout confiance'\n",
    "                                        , 'Plutôt pas confiance'\n",
    "                                        , 'Plutôt confiance'\n",
    "                                       , 'Tout à fait confiance'], \n",
    "                            ordered=True)"
   ]
  },
  {
   "cell_type": "code",
   "execution_count": 363,
   "metadata": {},
   "outputs": [
    {
     "data": {
      "text/plain": [
       "Q4_0\n",
       "3    639\n",
       "2    296\n",
       "1     94\n",
       "Name: count, dtype: int64"
      ]
     },
     "execution_count": 363,
     "metadata": {},
     "output_type": "execute_result"
    }
   ],
   "source": [
    "# Variable 'Q4_0'\n",
    "# Question : Avez-vous déjà entendu parler des médicaments et traitements suivants ? Les médicaments biologiques \n",
    "data['Q4_0'].value_counts()"
   ]
  },
  {
   "cell_type": "code",
   "execution_count": 364,
   "metadata": {},
   "outputs": [
    {
     "data": {
      "text/plain": [
       "Q4_1\n",
       "3    835\n",
       "2    151\n",
       "1     43\n",
       "Name: count, dtype: int64"
      ]
     },
     "execution_count": 364,
     "metadata": {},
     "output_type": "execute_result"
    }
   ],
   "source": [
    "# Variable 'Q4_1'\n",
    "# Question : Avez-vous déjà entendu parler des médicaments et traitements suivants ? Les médicaments biosimilaires \n",
    "data['Q4_1'].value_counts()"
   ]
  },
  {
   "cell_type": "code",
   "execution_count": 365,
   "metadata": {},
   "outputs": [
    {
     "data": {
      "text/plain": [
       "Q4_2\n",
       "3    472\n",
       "2    400\n",
       "1    157\n",
       "Name: count, dtype: int64"
      ]
     },
     "execution_count": 365,
     "metadata": {},
     "output_type": "execute_result"
    }
   ],
   "source": [
    "# Variable 'Q4_2'\n",
    "# Question : Avez-vous déjà entendu parler des médicaments et traitements suivants ? Les médicaments de thérapie génique \n",
    "data['Q4_2'].value_counts()"
   ]
  },
  {
   "cell_type": "code",
   "execution_count": 366,
   "metadata": {},
   "outputs": [
    {
     "data": {
      "text/plain": [
       "Q4_3\n",
       "2    442\n",
       "3    402\n",
       "1    185\n",
       "Name: count, dtype: int64"
      ]
     },
     "execution_count": 366,
     "metadata": {},
     "output_type": "execute_result"
    }
   ],
   "source": [
    "# Variable 'Q4_3'\n",
    "# Question : Avez-vous déjà entendu parler des médicaments et traitements suivants ? Les médicaments d'immunothérapie \n",
    "data['Q4_3'].value_counts()"
   ]
  },
  {
   "cell_type": "code",
   "execution_count": 367,
   "metadata": {},
   "outputs": [],
   "source": [
    "data[['Q4_0', 'Q4_1', 'Q4_2', 'Q4_3']] = data[['Q4_0', 'Q4_1', 'Q4_2', 'Q4_3']].astype('category')"
   ]
  },
  {
   "cell_type": "code",
   "execution_count": 368,
   "metadata": {},
   "outputs": [],
   "source": [
    "ItemsQ4 = ['Q4_0', 'Q4_1', 'Q4_2', 'Q4_3']"
   ]
  },
  {
   "cell_type": "code",
   "execution_count": 369,
   "metadata": {},
   "outputs": [],
   "source": [
    "for i in data[ItemsQ4].columns:\n",
    "    data[i] = data[i].cat.rename_categories({1: \"Oui et je sais précisément ce dont il s'agit\"\n",
    "                                                 , 2 : \"Oui mais je ne sais pas vraiment ce dont il s'agit\"\n",
    "                                                 , 3 : \"Non, je ne sais pas ce dont il s'agit\"})"
   ]
  },
  {
   "cell_type": "code",
   "execution_count": 370,
   "metadata": {},
   "outputs": [],
   "source": [
    "#changer l'order des categories\n",
    "for i in data[ItemsQ4].columns:\n",
    "    data[i] = pd.Categorical(data[i], \n",
    "                            categories=[\"Non, je ne sais pas ce dont il s'agit\"\n",
    "                                        , \"Oui mais je ne sais pas vraiment ce dont il s'agit\" \n",
    "                                        , \"Oui et je sais précisément ce dont il s'agit\"], \n",
    "                            ordered=True)"
   ]
  },
  {
   "cell_type": "code",
   "execution_count": 371,
   "metadata": {},
   "outputs": [
    {
     "data": {
      "text/plain": [
       "Q5_0\n",
       "     639\n",
       "2    266\n",
       "3     72\n",
       "1     44\n",
       "4      8\n",
       "Name: count, dtype: int64"
      ]
     },
     "execution_count": 371,
     "metadata": {},
     "output_type": "execute_result"
    }
   ],
   "source": [
    "# Variable 'Q5_0'\n",
    "# Question : Et globalement, diriez-vous que vous faîtes confiance aux médicaments et traitements suivants ? Les médicaments biologiques\n",
    "data['Q5_0'].value_counts()"
   ]
  },
  {
   "cell_type": "code",
   "execution_count": 372,
   "metadata": {},
   "outputs": [
    {
     "data": {
      "text/plain": [
       "Q5_1\n",
       "     835\n",
       "2    117\n",
       "3     43\n",
       "1     25\n",
       "4      9\n",
       "Name: count, dtype: int64"
      ]
     },
     "execution_count": 372,
     "metadata": {},
     "output_type": "execute_result"
    }
   ],
   "source": [
    "# Variable 'Q5_1'\n",
    "# Question : Et globalement, diriez-vous que vous faîtes confiance aux médicaments et traitements suivants ? Les médicaments biosimilaires\n",
    "data['Q5_1'].value_counts()"
   ]
  },
  {
   "cell_type": "code",
   "execution_count": 373,
   "metadata": {},
   "outputs": [
    {
     "data": {
      "text/plain": [
       "Q5_2\n",
       "     472\n",
       "2    367\n",
       "3    107\n",
       "1     71\n",
       "4     12\n",
       "Name: count, dtype: int64"
      ]
     },
     "execution_count": 373,
     "metadata": {},
     "output_type": "execute_result"
    }
   ],
   "source": [
    "# Variable 'Q5_2'\n",
    "# Question : Et globalement, diriez-vous que vous faîtes confiance aux médicaments et traitements suivants ? Les médicaments de thérapie génique\n",
    "data['Q5_2'].value_counts()"
   ]
  },
  {
   "cell_type": "code",
   "execution_count": 374,
   "metadata": {},
   "outputs": [
    {
     "data": {
      "text/plain": [
       "Q5_3\n",
       "2    459\n",
       "     402\n",
       "3     82\n",
       "1     75\n",
       "4     11\n",
       "Name: count, dtype: int64"
      ]
     },
     "execution_count": 374,
     "metadata": {},
     "output_type": "execute_result"
    }
   ],
   "source": [
    "# Variable 'Q5_3'\n",
    "# Question : Et globalement, diriez-vous que vous faîtes confiance aux médicaments et traitements suivants ? Les médicaments d'immunothérapie\n",
    "data['Q5_3'].value_counts()"
   ]
  },
  {
   "cell_type": "code",
   "execution_count": 375,
   "metadata": {},
   "outputs": [],
   "source": [
    "data[['Q5_0', 'Q5_1', 'Q5_2', 'Q5_3']] = data[['Q5_0', 'Q5_1', 'Q5_2', 'Q5_3']].astype('category')"
   ]
  },
  {
   "cell_type": "code",
   "execution_count": 376,
   "metadata": {},
   "outputs": [],
   "source": [
    "ItemsQ5 = ['Q5_0', 'Q5_1', 'Q5_2', 'Q5_3']"
   ]
  },
  {
   "cell_type": "code",
   "execution_count": 377,
   "metadata": {},
   "outputs": [],
   "source": [
    "for i in data[ItemsQ5].columns:\n",
    "    data[i] = data[i].cat.rename_categories({' ' : \" \"\n",
    "                                          , '1' : \"Tout à fait confiance\"\n",
    "                                          , '2' : \"Plutôt confiance\"\n",
    "                                          , '3' : \"Plutôt pas confiance\"\n",
    "                                          , '4' : \"Pas du tout confiance\"})"
   ]
  },
  {
   "cell_type": "code",
   "execution_count": 378,
   "metadata": {},
   "outputs": [],
   "source": [
    "#changer l'order des categories\n",
    "for i in data[ItemsQ5].columns:\n",
    "    data[i] = pd.Categorical(data[i], \n",
    "                            categories=['Pas du tout confiance'\n",
    "                                        , 'Plutôt pas confiance'\n",
    "                                        , 'Plutôt confiance'\n",
    "                                       , 'Tout à fait confiance'\n",
    "                                       , ' '], \n",
    "                            ordered=True)"
   ]
  },
  {
   "cell_type": "code",
   "execution_count": 379,
   "metadata": {},
   "outputs": [
    {
     "data": {
      "text/plain": [
       "Q9_0\n",
       "2    538\n",
       "1    411\n",
       "3     66\n",
       "4     14\n",
       "Name: count, dtype: int64"
      ]
     },
     "execution_count": 379,
     "metadata": {},
     "output_type": "execute_result"
    }
   ],
   "source": [
    "# Variable 'Q9_0'\n",
    "# Question : En matière d’information sur les médicaments, diriez-vous que vous faites personnellement tout à fait confiance, plutôt confiance, plutôt pas confiance ou pas du tout confiance : A votre médecin traitant\n",
    "data['Q9_0'].value_counts()"
   ]
  },
  {
   "cell_type": "code",
   "execution_count": 380,
   "metadata": {},
   "outputs": [
    {
     "data": {
      "text/plain": [
       "Q9_1\n",
       "2    609\n",
       "1    349\n",
       "3     57\n",
       "4     14\n",
       "Name: count, dtype: int64"
      ]
     },
     "execution_count": 380,
     "metadata": {},
     "output_type": "execute_result"
    }
   ],
   "source": [
    "# Variable 'Q9_1'\n",
    "# Question : En matière d’information sur les médicaments, diriez-vous que vous faites personnellement tout à fait confiance, plutôt confiance, plutôt pas confiance ou pas du tout confiance : Aux médecins spécialistes\n",
    "data['Q9_1'].value_counts()"
   ]
  },
  {
   "cell_type": "code",
   "execution_count": 381,
   "metadata": {},
   "outputs": [
    {
     "data": {
      "text/plain": [
       "Q9_2\n",
       "2    637\n",
       "1    246\n",
       "3    128\n",
       "4     18\n",
       "Name: count, dtype: int64"
      ]
     },
     "execution_count": 381,
     "metadata": {},
     "output_type": "execute_result"
    }
   ],
   "source": [
    "# Variable 'Q9_2'\n",
    "# Question : En matière d’information sur les médicaments, diriez-vous que vous faites personnellement tout à fait confiance, plutôt confiance, plutôt pas confiance ou pas du tout confiance : Aux pharmaciens\n",
    "data['Q9_2'].value_counts()"
   ]
  },
  {
   "cell_type": "code",
   "execution_count": 382,
   "metadata": {},
   "outputs": [
    {
     "data": {
      "text/plain": [
       "Q9_3\n",
       "2    637\n",
       "1    298\n",
       "3     75\n",
       "4     19\n",
       "Name: count, dtype: int64"
      ]
     },
     "execution_count": 382,
     "metadata": {},
     "output_type": "execute_result"
    }
   ],
   "source": [
    "# Variable 'Q9_3'\n",
    "# Question : En matière d’information sur les médicaments, diriez-vous que vous faites personnellement tout à fait confiance, plutôt confiance, plutôt pas confiance ou pas du tout confiance : Aux infirmières\n",
    "data['Q9_3'].value_counts()"
   ]
  },
  {
   "cell_type": "code",
   "execution_count": 383,
   "metadata": {},
   "outputs": [
    {
     "data": {
      "text/plain": [
       "Q9_4\n",
       "2    504\n",
       "3    351\n",
       "4    115\n",
       "1     59\n",
       "Name: count, dtype: int64"
      ]
     },
     "execution_count": 383,
     "metadata": {},
     "output_type": "execute_result"
    }
   ],
   "source": [
    "# Variable 'Q9_4'\n",
    "# Question : En matière d’information sur les médicaments, diriez-vous que vous faites personnellement tout à fait confiance, plutôt confiance, plutôt pas confiance ou pas du tout confiance : Aux autorités de santé/Aux pouvoirs publics\n",
    "data['Q9_4'].value_counts()"
   ]
  },
  {
   "cell_type": "code",
   "execution_count": 384,
   "metadata": {},
   "outputs": [
    {
     "data": {
      "text/plain": [
       "Q9_5\n",
       "2    667\n",
       "1    244\n",
       "3    102\n",
       "4     16\n",
       "Name: count, dtype: int64"
      ]
     },
     "execution_count": 384,
     "metadata": {},
     "output_type": "execute_result"
    }
   ],
   "source": [
    "# Variable 'Q9_5'\n",
    "# Question : En matière d’information sur les médicaments, diriez-vous que vous faites personnellement tout à fait confiance, plutôt confiance, plutôt pas confiance ou pas du tout confiance : Aux chercheurs\n",
    "data['Q9_5'].value_counts()"
   ]
  },
  {
   "cell_type": "code",
   "execution_count": 385,
   "metadata": {},
   "outputs": [
    {
     "data": {
      "text/plain": [
       "Q9_6\n",
       "2    662\n",
       "3    221\n",
       "1    109\n",
       "4     37\n",
       "Name: count, dtype: int64"
      ]
     },
     "execution_count": 385,
     "metadata": {},
     "output_type": "execute_result"
    }
   ],
   "source": [
    "# Variable 'Q9_6'\n",
    "# Question : En matière d’information sur les médicaments, diriez-vous que vous faites personnellement tout à fait confiance, plutôt confiance, plutôt pas confiance ou pas du tout confiance : Aux associations de patients\n",
    "data['Q9_6'].value_counts()"
   ]
  },
  {
   "cell_type": "code",
   "execution_count": 386,
   "metadata": {},
   "outputs": [
    {
     "data": {
      "text/plain": [
       "Q9_7\n",
       "2    673\n",
       "3    156\n",
       "1    155\n",
       "4     45\n",
       "Name: count, dtype: int64"
      ]
     },
     "execution_count": 386,
     "metadata": {},
     "output_type": "execute_result"
    }
   ],
   "source": [
    "# Variable 'Q9_7'\n",
    "# Question : En matière d’information sur les médicaments, diriez-vous que vous faites personnellement tout à fait confiance, plutôt confiance, plutôt pas confiance ou pas du tout confiance : Aux notices des médicaments\n",
    "data['Q9_7'].value_counts()"
   ]
  },
  {
   "cell_type": "code",
   "execution_count": 387,
   "metadata": {},
   "outputs": [
    {
     "data": {
      "text/plain": [
       "Q9_8\n",
       "3    440\n",
       "2    326\n",
       "4    227\n",
       "1     36\n",
       "Name: count, dtype: int64"
      ]
     },
     "execution_count": 387,
     "metadata": {},
     "output_type": "execute_result"
    }
   ],
   "source": [
    "# Variable 'Q9_8'\n",
    "# Question : En matière d’information sur les médicaments, diriez-vous que vous faites personnellement tout à fait confiance, plutôt confiance, plutôt pas confiance ou pas du tout confiance : Aux entreprises du médicament\n",
    "data['Q9_8'].value_counts()"
   ]
  },
  {
   "cell_type": "code",
   "execution_count": 388,
   "metadata": {},
   "outputs": [
    {
     "data": {
      "text/plain": [
       "Q9_9\n",
       "3    445\n",
       "4    428\n",
       "2    132\n",
       "1     24\n",
       "Name: count, dtype: int64"
      ]
     },
     "execution_count": 388,
     "metadata": {},
     "output_type": "execute_result"
    }
   ],
   "source": [
    "# Variable 'Q9_9'\n",
    "# Question : En matière d’information sur les médicaments, diriez-vous que vous faites personnellement tout à fait confiance, plutôt confiance, plutôt pas confiance ou pas du tout confiance : Aux responsables politiques\n",
    "data['Q9_9'].value_counts()"
   ]
  },
  {
   "cell_type": "code",
   "execution_count": 389,
   "metadata": {},
   "outputs": [
    {
     "data": {
      "text/plain": [
       "Q9_10\n",
       "3    575\n",
       "2    221\n",
       "4    213\n",
       "1     20\n",
       "Name: count, dtype: int64"
      ]
     },
     "execution_count": 389,
     "metadata": {},
     "output_type": "execute_result"
    }
   ],
   "source": [
    "# Variable 'Q9_10'\n",
    "# Question : En matière d’information sur les médicaments, diriez-vous que vous faites personnellement tout à fait confiance, plutôt confiance, plutôt pas confiance ou pas du tout confiance : A internet\n",
    "data['Q9_10'].value_counts()"
   ]
  },
  {
   "cell_type": "code",
   "execution_count": 390,
   "metadata": {},
   "outputs": [
    {
     "data": {
      "text/plain": [
       "Q9_11\n",
       "3    456\n",
       "2    411\n",
       "4    140\n",
       "1     22\n",
       "Name: count, dtype: int64"
      ]
     },
     "execution_count": 390,
     "metadata": {},
     "output_type": "execute_result"
    }
   ],
   "source": [
    "# Variable 'Q9_11'\n",
    "# Question : En matière d’information sur les médicaments, diriez-vous que vous faites personnellement tout à fait confiance, plutôt confiance, plutôt pas confiance ou pas du tout confiance : A la presse écrite\n",
    "data['Q9_11'].value_counts()"
   ]
  },
  {
   "cell_type": "code",
   "execution_count": 391,
   "metadata": {},
   "outputs": [
    {
     "data": {
      "text/plain": [
       "Q9_12\n",
       "3    532\n",
       "2    276\n",
       "4    204\n",
       "1     17\n",
       "Name: count, dtype: int64"
      ]
     },
     "execution_count": 391,
     "metadata": {},
     "output_type": "execute_result"
    }
   ],
   "source": [
    "# Variable 'Q9_12'\n",
    "# Question : En matière d’information sur les médicaments, diriez-vous que vous faites personnellement tout à fait confiance, plutôt confiance, plutôt pas confiance ou pas du tout confiance : A la télévision\n",
    "data['Q9_12'].value_counts()"
   ]
  },
  {
   "cell_type": "code",
   "execution_count": 392,
   "metadata": {},
   "outputs": [
    {
     "data": {
      "text/plain": [
       "Q9_13\n",
       "3    478\n",
       "2    372\n",
       "4    147\n",
       "1     32\n",
       "Name: count, dtype: int64"
      ]
     },
     "execution_count": 392,
     "metadata": {},
     "output_type": "execute_result"
    }
   ],
   "source": [
    "# Variable 'Q9_13'\n",
    "# Question : En matière d’information sur les médicaments, diriez-vous que vous faites personnellement tout à fait confiance, plutôt confiance, plutôt pas confiance ou pas du tout confiance : A la radio\n",
    "data['Q9_13'].value_counts()"
   ]
  },
  {
   "cell_type": "code",
   "execution_count": 393,
   "metadata": {},
   "outputs": [
    {
     "data": {
      "text/plain": [
       "Q9_14\n",
       "2    613\n",
       "3    245\n",
       "1    125\n",
       "4     46\n",
       "Name: count, dtype: int64"
      ]
     },
     "execution_count": 393,
     "metadata": {},
     "output_type": "execute_result"
    }
   ],
   "source": [
    "# Variable 'Q9_14'\n",
    "# Question : En matière d’information sur les médicaments, diriez-vous que vous faites personnellement tout à fait confiance, plutôt confiance, plutôt pas confiance ou pas du tout confiance : A votre entourage\n",
    "data['Q9_14'].value_counts()"
   ]
  },
  {
   "cell_type": "code",
   "execution_count": 394,
   "metadata": {},
   "outputs": [
    {
     "data": {
      "text/plain": [
       "Q9_15\n",
       "2    536\n",
       "3    367\n",
       "4     79\n",
       "1     47\n",
       "Name: count, dtype: int64"
      ]
     },
     "execution_count": 394,
     "metadata": {},
     "output_type": "execute_result"
    }
   ],
   "source": [
    "# Variable 'Q9_15'\n",
    "# Question : En matière d’information sur les médicaments, diriez-vous que vous faites personnellement tout à fait confiance, plutôt confiance, plutôt pas confiance ou pas du tout confiance : Aux livres publiés sur les médicaments \n",
    "data['Q9_15'].value_counts()"
   ]
  },
  {
   "cell_type": "code",
   "execution_count": 395,
   "metadata": {},
   "outputs": [
    {
     "data": {
      "text/plain": [
       "Q9_16\n",
       "2    651\n",
       "1    269\n",
       "3     86\n",
       "4     23\n",
       "Name: count, dtype: int64"
      ]
     },
     "execution_count": 395,
     "metadata": {},
     "output_type": "execute_result"
    }
   ],
   "source": [
    "# Variable 'Q9_16'\n",
    "# Question : En matière d’information sur les médicaments, diriez-vous que vous faites personnellement tout à fait confiance, plutôt confiance, plutôt pas confiance ou pas du tout confiance : Aux médecins qui exercent à l'hôpital \n",
    "data['Q9_16'].value_counts()"
   ]
  },
  {
   "cell_type": "code",
   "execution_count": 396,
   "metadata": {},
   "outputs": [
    {
     "data": {
      "text/plain": [
       "Q9_17\n",
       "2    513\n",
       "3    325\n",
       "4    105\n",
       "1     86\n",
       "Name: count, dtype: int64"
      ]
     },
     "execution_count": 396,
     "metadata": {},
     "output_type": "execute_result"
    }
   ],
   "source": [
    "# Variable 'Q9_17'\n",
    "# Question : En matière d’information sur les médicaments, diriez-vous que vous faites personnellement tout à fait confiance, plutôt confiance, plutôt pas confiance ou pas du tout confiance : Aux lanceurs d'alerte de l'opinion publique\n",
    "data['Q9_17'].value_counts()"
   ]
  },
  {
   "cell_type": "code",
   "execution_count": 397,
   "metadata": {},
   "outputs": [],
   "source": [
    "data[['Q9_0', 'Q9_1', 'Q9_2', 'Q9_3', 'Q9_4', 'Q9_5', 'Q9_6', 'Q9_7', 'Q9_8', 'Q9_9', 'Q9_10', 'Q9_11', 'Q9_12', 'Q9_13', 'Q9_14', 'Q9_15', 'Q9_16', 'Q9_17']] = data[['Q9_0', 'Q9_1', 'Q9_2', 'Q9_3', 'Q9_4', 'Q9_5', 'Q9_6', 'Q9_7', 'Q9_8', 'Q9_9', 'Q9_10', 'Q9_11', 'Q9_12', 'Q9_13', 'Q9_14', 'Q9_15', 'Q9_16', 'Q9_17']].astype('category')"
   ]
  },
  {
   "cell_type": "code",
   "execution_count": 398,
   "metadata": {},
   "outputs": [],
   "source": [
    "ItemsQ9 = ['Q9_0', 'Q9_1', 'Q9_2', 'Q9_3', 'Q9_4', 'Q9_5', 'Q9_6', 'Q9_7', 'Q9_8', 'Q9_9', 'Q9_10', 'Q9_11', 'Q9_12', 'Q9_13', 'Q9_14', 'Q9_15', 'Q9_16', 'Q9_17']"
   ]
  },
  {
   "cell_type": "code",
   "execution_count": 399,
   "metadata": {},
   "outputs": [],
   "source": [
    "for i in data[ItemsQ9].columns:\n",
    "    data[i] = data[i].cat.rename_categories({1: \"Tout à fait confiance\"\n",
    "                                                 , 2 : \"Plutôt confiance\"\n",
    "                                                 , 3 : \"Plutôt pas confiance\"\n",
    "                                                 , 4 : \"Pas du tout confiance\"})"
   ]
  },
  {
   "cell_type": "code",
   "execution_count": 400,
   "metadata": {},
   "outputs": [],
   "source": [
    "#changer l'order des categories\n",
    "for i in data[ItemsQ9].columns:\n",
    "    data[i] = pd.Categorical(data[i], \n",
    "                            categories=['Pas du tout confiance'\n",
    "                                        , 'Plutôt pas confiance'\n",
    "                                        , 'Plutôt confiance'\n",
    "                                       , 'Tout à fait confiance'], \n",
    "                            ordered=True)"
   ]
  },
  {
   "cell_type": "code",
   "execution_count": 401,
   "metadata": {},
   "outputs": [
    {
     "data": {
      "text/plain": [
       "Q11_0\n",
       "3    454\n",
       "4    289\n",
       "2    265\n",
       "1     21\n",
       "Name: count, dtype: int64"
      ]
     },
     "execution_count": 401,
     "metadata": {},
     "output_type": "execute_result"
    }
   ],
   "source": [
    "# Variable 'Q11_0'\n",
    "# Question : Diriez-vous que vous avez tout à fait, plutôt, plutôt pas ou pas du tout confiance dans les entreprises du secteur : Du pétrole\n",
    "data['Q11_0'].value_counts()"
   ]
  },
  {
   "cell_type": "code",
   "execution_count": 402,
   "metadata": {},
   "outputs": [
    {
     "data": {
      "text/plain": [
       "Q11_1\n",
       "3    462\n",
       "2    336\n",
       "4    208\n",
       "1     23\n",
       "Name: count, dtype: int64"
      ]
     },
     "execution_count": 402,
     "metadata": {},
     "output_type": "execute_result"
    }
   ],
   "source": [
    "# Variable 'Q11_1'\n",
    "# Question : Diriez-vous que vous avez tout à fait, plutôt, plutôt pas ou pas du tout confiance dans les entreprises du secteur : De la grande distribution\n",
    "data['Q11_1'].value_counts()"
   ]
  },
  {
   "cell_type": "code",
   "execution_count": 403,
   "metadata": {},
   "outputs": [
    {
     "data": {
      "text/plain": [
       "Q11_2\n",
       "2    512\n",
       "3    368\n",
       "4    115\n",
       "1     34\n",
       "Name: count, dtype: int64"
      ]
     },
     "execution_count": 403,
     "metadata": {},
     "output_type": "execute_result"
    }
   ],
   "source": [
    "# Variable 'Q11_2'\n",
    "# Question : Diriez-vous que vous avez tout à fait, plutôt, plutôt pas ou pas du tout confiance dans les entreprises du secteur : Des télécommunications\n",
    "data['Q11_2'].value_counts()"
   ]
  },
  {
   "cell_type": "code",
   "execution_count": 404,
   "metadata": {},
   "outputs": [
    {
     "data": {
      "text/plain": [
       "Q11_3\n",
       "3    462\n",
       "2    364\n",
       "4    172\n",
       "1     31\n",
       "Name: count, dtype: int64"
      ]
     },
     "execution_count": 404,
     "metadata": {},
     "output_type": "execute_result"
    }
   ],
   "source": [
    "# Variable 'Q11_3'\n",
    "# Question : Diriez-vous que vous avez tout à fait, plutôt, plutôt pas ou pas du tout confiance dans les entreprises du secteur : De l'agro-alimentaire\n",
    "data['Q11_3'].value_counts()"
   ]
  },
  {
   "cell_type": "code",
   "execution_count": 405,
   "metadata": {},
   "outputs": [
    {
     "data": {
      "text/plain": [
       "Q11_4\n",
       "2    460\n",
       "3    355\n",
       "4    145\n",
       "1     69\n",
       "Name: count, dtype: int64"
      ]
     },
     "execution_count": 405,
     "metadata": {},
     "output_type": "execute_result"
    }
   ],
   "source": [
    "# Variable 'Q11_4'\n",
    "# Question : Diriez-vous que vous avez tout à fait, plutôt, plutôt pas ou pas du tout confiance dans les entreprises du secteur : Du médicament\n",
    "data['Q11_4'].value_counts()"
   ]
  },
  {
   "cell_type": "code",
   "execution_count": 406,
   "metadata": {},
   "outputs": [
    {
     "data": {
      "text/plain": [
       "Q11_5\n",
       "3    434\n",
       "2    335\n",
       "4    231\n",
       "1     29\n",
       "Name: count, dtype: int64"
      ]
     },
     "execution_count": 406,
     "metadata": {},
     "output_type": "execute_result"
    }
   ],
   "source": [
    "# Variable 'Q11_5'\n",
    "# Question : Diriez-vous que vous avez tout à fait, plutôt, plutôt pas ou pas du tout confiance dans les entreprises du secteur : De la banque et de l'assurance\n",
    "data['Q11_5'].value_counts()"
   ]
  },
  {
   "cell_type": "code",
   "execution_count": 407,
   "metadata": {},
   "outputs": [
    {
     "data": {
      "text/plain": [
       "Q11_6\n",
       "2    634\n",
       "3    272\n",
       "4     71\n",
       "1     52\n",
       "Name: count, dtype: int64"
      ]
     },
     "execution_count": 407,
     "metadata": {},
     "output_type": "execute_result"
    }
   ],
   "source": [
    "# Variable 'Q11_6'\n",
    "# Question : Diriez-vous que vous avez tout à fait, plutôt, plutôt pas ou pas du tout confiance dans les entreprises du secteur : Du bâtiment et des travaux publics\n",
    "data['Q11_6'].value_counts()"
   ]
  },
  {
   "cell_type": "code",
   "execution_count": 408,
   "metadata": {},
   "outputs": [
    {
     "data": {
      "text/plain": [
       "Q11_7\n",
       "2    532\n",
       "3    360\n",
       "4     97\n",
       "1     40\n",
       "Name: count, dtype: int64"
      ]
     },
     "execution_count": 408,
     "metadata": {},
     "output_type": "execute_result"
    }
   ],
   "source": [
    "# Variable 'Q11_7'\n",
    "# Question : Diriez-vous que vous avez tout à fait, plutôt, plutôt pas ou pas du tout confiance dans les entreprises du secteur : De l'automobile\n",
    "data['Q11_7'].value_counts()"
   ]
  },
  {
   "cell_type": "code",
   "execution_count": 409,
   "metadata": {},
   "outputs": [
    {
     "data": {
      "text/plain": [
       "Q11_8\n",
       "3    373\n",
       "2    348\n",
       "4    250\n",
       "1     58\n",
       "Name: count, dtype: int64"
      ]
     },
     "execution_count": 409,
     "metadata": {},
     "output_type": "execute_result"
    }
   ],
   "source": [
    "# Variable 'Q11_8'\n",
    "# Question : Diriez-vous que vous avez tout à fait, plutôt, plutôt pas ou pas du tout confiance dans les entreprises du secteur : Du nucléaire\n",
    "data['Q11_8'].value_counts()"
   ]
  },
  {
   "cell_type": "code",
   "execution_count": 410,
   "metadata": {},
   "outputs": [
    {
     "data": {
      "text/plain": [
       "Q11_9\n",
       "2    696\n",
       "3    140\n",
       "1    140\n",
       "4     53\n",
       "Name: count, dtype: int64"
      ]
     },
     "execution_count": 410,
     "metadata": {},
     "output_type": "execute_result"
    }
   ],
   "source": [
    "# Variable 'Q11_9'\n",
    "# Question : Diriez-vous que vous avez tout à fait, plutôt, plutôt pas ou pas du tout confiance dans les entreprises du secteur : De l'aéronautique et aérospatial\n",
    "data['Q11_9'].value_counts()"
   ]
  },
  {
   "cell_type": "code",
   "execution_count": 411,
   "metadata": {},
   "outputs": [
    {
     "data": {
      "text/plain": [
       "Q11_10\n",
       "2    508\n",
       "3    371\n",
       "4     97\n",
       "1     53\n",
       "Name: count, dtype: int64"
      ]
     },
     "execution_count": 411,
     "metadata": {},
     "output_type": "execute_result"
    }
   ],
   "source": [
    "# Variable 'Q11_10'\n",
    "# Question : Diriez-vous que vous avez tout à fait, plutôt, plutôt pas ou pas du tout confiance dans les entreprises du secteur : Du numérique\n",
    "data['Q11_10'].value_counts()"
   ]
  },
  {
   "cell_type": "code",
   "execution_count": 412,
   "metadata": {},
   "outputs": [
    {
     "data": {
      "text/plain": [
       "Q11_11\n",
       "2    466\n",
       "3    400\n",
       "4    124\n",
       "1     39\n",
       "Name: count, dtype: int64"
      ]
     },
     "execution_count": 412,
     "metadata": {},
     "output_type": "execute_result"
    }
   ],
   "source": [
    "# Variable 'Q11_11'\n",
    "# Question : Diriez-vous que vous avez tout à fait, plutôt, plutôt pas ou pas du tout confiance dans les entreprises du secteur : De la chimie\n",
    "data['Q11_11'].value_counts()"
   ]
  },
  {
   "cell_type": "code",
   "execution_count": 413,
   "metadata": {},
   "outputs": [],
   "source": [
    "data[['Q11_0', 'Q11_1', 'Q11_2', 'Q11_3', 'Q11_4', 'Q11_5', 'Q11_6', 'Q11_7', 'Q11_8', 'Q11_9', 'Q11_10', 'Q11_11']] = data[['Q11_0', 'Q11_1', 'Q11_2', 'Q11_3', 'Q11_4', 'Q11_5', 'Q11_6', 'Q11_7', 'Q11_8', 'Q11_9', 'Q11_10', 'Q11_11']].astype('category')"
   ]
  },
  {
   "cell_type": "code",
   "execution_count": 414,
   "metadata": {},
   "outputs": [],
   "source": [
    "ItemsQ11 = ['Q11_0', 'Q11_1', 'Q11_2', 'Q11_3', 'Q11_4', 'Q11_5', 'Q11_6', 'Q11_7', 'Q11_8', 'Q11_9', 'Q11_10', 'Q11_11']"
   ]
  },
  {
   "cell_type": "code",
   "execution_count": 415,
   "metadata": {},
   "outputs": [],
   "source": [
    "for i in data[ItemsQ11].columns:\n",
    "    data[i] = data[i].cat.rename_categories({1: \"Tout à fait confiance\"\n",
    "                                                 , 2 : \"Plutôt confiance\"\n",
    "                                                 , 3 : \"Plutôt pas confiance\"\n",
    "                                                 , 4 : \"Pas du tout confiance\"})"
   ]
  },
  {
   "cell_type": "code",
   "execution_count": 416,
   "metadata": {},
   "outputs": [],
   "source": [
    "#changer l'order des categories\n",
    "for i in data[ItemsQ11].columns:\n",
    "    data[i] = pd.Categorical(data[i], \n",
    "                            categories=['Pas du tout confiance'\n",
    "                                        , 'Plutôt pas confiance'\n",
    "                                        , 'Plutôt confiance'\n",
    "                                       , 'Tout à fait confiance'], \n",
    "                            ordered=True)"
   ]
  },
  {
   "cell_type": "code",
   "execution_count": 417,
   "metadata": {},
   "outputs": [],
   "source": [
    "# fonction pour creer un tableau croisé multiple avec effectifs et pourcentages\n",
    "def tableau_croise_final(\n",
    "    data, var_dep, indeps):\n",
    "    t_nombre = pyshs.tableau_croise_multiple(data,\n",
    "                              var_dep,\n",
    "                              indeps,\n",
    "                              \"PSD\",               \n",
    "                              contenu=\"absolu\") \n",
    "    t_pourcentage = pyshs.tableau_croise_multiple(data,\n",
    "                              var_dep,\n",
    "                              indeps,\n",
    "                              \"PSD\",                   \n",
    "                              contenu=\"pourcentage\" )\n",
    "    t=pd.concat({n:pd.concat({\"Effectif\":t_nombre[n],\"%\":t_pourcentage[n]},axis=1)                     \n",
    "        for n in t_nombre.columns if n != \"Total\" and n != \"Distribution\"},axis=1)\n",
    "    \n",
    "    for n in t_nombre.columns:\n",
    "        if n == \"Total\":\n",
    "            t[\"Total\"] = t_nombre[\"Total\"]\n",
    "\n",
    "    t[\"Distribution\"]= t_pourcentage[\"Distribution\"]\n",
    "    \n",
    "    t = t.reset_index()\n",
    "    \n",
    "    t[\"Question\"] = t[\"Variable\"].apply(lambda x : x.split(' ')[0])\n",
    "    \n",
    "    t[\"Question\"] = t[\"Question\"].apply(lambda x : list({key: questions_variables[key] for key in [x]}.values())[0])\n",
    "    \n",
    "    t = t.set_index(['Question','Variable'])\n",
    "    \n",
    "    return t\n",
    "\n",
    "\n",
    "   "
   ]
  },
  {
   "cell_type": "code",
   "execution_count": 418,
   "metadata": {},
   "outputs": [],
   "source": [
    "B = ['Q1', 'RS2A', 'RS2B', 'Q3_0', 'Q3_1', 'Q3_2', 'Q3_3', 'Q3_4', 'Q3_5', 'Q3_6', 'Q3_7', 'Q4_0', 'Q4_1', 'Q4_2', 'Q4_3'\n",
    "     , 'Q5_0', 'Q5_1', 'Q5_2', 'Q5_3', 'Q9_0', 'Q9_1', 'Q9_2', 'Q9_3', 'Q9_4', 'Q9_5', 'Q9_6', 'Q9_7', 'Q9_8', 'Q9_9'\n",
    "     , 'Q9_10', 'Q9_11', 'Q9_12', 'Q9_13', 'Q9_14', 'Q9_15', 'Q9_16', 'Q9_17', 'Q11_4']"
   ]
  },
  {
   "cell_type": "code",
   "execution_count": 419,
   "metadata": {},
   "outputs": [],
   "source": [
    "Tableaux = {}\n",
    "for i in B:\n",
    "    tableau_i = tableau_croise_final(data, i, list_indeps)\n",
    "    Tableaux.update({i: tableau_i})"
   ]
  },
  {
   "cell_type": "code",
   "execution_count": 420,
   "metadata": {},
   "outputs": [
    {
     "name": "stderr",
     "output_type": "stream",
     "text": [
      "<ipython-input-420-c1f167d11ba3>:1: UserWarning: Pandas requires version '1.4.3' or newer of 'xlsxwriter' (version '1.3.7' currently installed).\n",
      "  with pd.ExcelWriter(r\"C:\\Users\\rana_\\OneDrive\\Bureau\\inserm\\travaux\\IFOP et LEEM\\transfer_5678355_files_71b8c3b2\\LEEM-2019\\Leem_2019_analyse\\Tableaux_croisés_Leem_2019.xlsx\") as engine:\n"
     ]
    }
   ],
   "source": [
    "with pd.ExcelWriter(r\"C:\\Users\\rana_\\OneDrive\\Bureau\\inserm\\travaux\\IFOP et LEEM\\transfer_5678355_files_71b8c3b2\\LEEM-2019\\Leem_2019_analyse\\Tableaux_croisés_Leem_2019.xlsx\") as engine:\n",
    "    for key, val in Tableaux.items():\n",
    "        val.to_excel(engine, sheet_name=key)"
   ]
  },
  {
   "cell_type": "code",
   "execution_count": null,
   "metadata": {},
   "outputs": [],
   "source": []
  }
 ],
 "metadata": {
  "kernelspec": {
   "display_name": "Python 3",
   "language": "python",
   "name": "python3"
  },
  "language_info": {
   "codemirror_mode": {
    "name": "ipython",
    "version": 3
   },
   "file_extension": ".py",
   "mimetype": "text/x-python",
   "name": "python",
   "nbconvert_exporter": "python",
   "pygments_lexer": "ipython3",
   "version": "3.8.5"
  }
 },
 "nbformat": 4,
 "nbformat_minor": 4
}
